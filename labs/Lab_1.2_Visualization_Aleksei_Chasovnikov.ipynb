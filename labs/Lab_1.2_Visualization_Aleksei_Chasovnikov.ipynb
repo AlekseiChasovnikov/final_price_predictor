{
 "cells": [
  {
   "cell_type": "markdown",
   "metadata": {},
   "source": [
    "## Lab 1.2 - Visualize Real Estate Data in St. Petersburg\n",
    "We have data from Yandex.Realty classified https://realty.yandex.ru containing real estate listings for apartments in St. Petersburg and Leningrad Oblast from 2016 till the middle of August 2018. \n",
    "\n",
    "### Main objectives\n",
    "After successful completion of the lab work students will be able to:\n",
    "-   Analyze datasets with visualization techniques\n"
   ]
  },
  {
   "cell_type": "markdown",
   "metadata": {},
   "source": [
    "### 1. Load data with real estate prices"
   ]
  },
  {
   "cell_type": "code",
   "execution_count": 1,
   "metadata": {},
   "outputs": [],
   "source": [
    "# let's import pandas library and set options to be able to view data right in the browser\n",
    "import pandas as pd\n",
    "import seaborn as sns\n",
    "import scipy.stats as stats\n",
    "import matplotlib.style as style\n",
    "from matplotlib import pyplot as plt\n",
    "pd.set_option('display.max_columns', 500)\n",
    "pd.set_option('display.width', 1000)\n",
    "pd.set_option('display.max_colwidth', 1000)\n",
    "style.use('fivethirtyeight')"
   ]
  },
  {
   "cell_type": "code",
   "execution_count": 2,
   "metadata": {},
   "outputs": [],
   "source": [
    "# import math library which we'll need later for calculating metrics\n",
    "import math\n",
    "from sklearn.metrics import mean_squared_error"
   ]
  },
  {
   "cell_type": "code",
   "execution_count": 3,
   "metadata": {},
   "outputs": [],
   "source": [
    "# load our dataset and see which data it contains.\n",
    "spb_df = pd.read_table('data/spb.real.estate.archive.2018.tsv')"
   ]
  },
  {
   "cell_type": "code",
   "execution_count": 4,
   "metadata": {},
   "outputs": [],
   "source": [
    "# Split data into Rent and Sell offers\n",
    "\n",
    "rent_df = spb_df[spb_df.offer_type == 2]\n",
    "sell_df = spb_df[spb_df.offer_type == 1]"
   ]
  },
  {
   "cell_type": "markdown",
   "metadata": {},
   "source": [
    "### 2. Prepare cleaned dataset with RENT data in St.Peterburg without Oblast "
   ]
  },
  {
   "cell_type": "markdown",
   "metadata": {},
   "source": [
    "#### Recreating rent dataframe cleaned from outliers, with only SPb offers left"
   ]
  },
  {
   "cell_type": "code",
   "execution_count": 5,
   "metadata": {},
   "outputs": [
    {
     "name": "stderr",
     "output_type": "stream",
     "text": [
      "<ipython-input-5-ac63d4e6f533>:2: SettingWithCopyWarning: \n",
      "A value is trying to be set on a copy of a slice from a DataFrame.\n",
      "Try using .loc[row_indexer,col_indexer] = value instead\n",
      "\n",
      "See the caveats in the documentation: https://pandas.pydata.org/pandas-docs/stable/user_guide/indexing.html#returning-a-view-versus-a-copy\n",
      "  rent_df['price_per_sq_m'] = rent_df.last_price/rent_df.area\n"
     ]
    }
   ],
   "source": [
    "# Creating new column with price per square meter for each offer\n",
    "rent_df['price_per_sq_m'] = rent_df.last_price/rent_df.area\n",
    "\n",
    "# Creating new dataframe with median price per square meter for each house\n",
    "house_rent_df = rent_df.groupby('unified_address').price_per_sq_m.median().reset_index()\n",
    "house_rent_df.rename(columns = {'price_per_sq_m': 'house_price_sqm_median'}, inplace = True)\n",
    "\n",
    "# Adding house median price per sq meter into main dataframe\n",
    "rent_df = rent_df.merge(house_rent_df)\n",
    "\n",
    "# Cleaning from expensive outliers\n",
    "rent_df_cleaned = rent_df[~((rent_df.price_per_sq_m/rent_df.house_price_sqm_median) > 5)]\n",
    "rent_df_cleaned = rent_df_cleaned[rent_df_cleaned.last_price < 1000000]\n",
    "rent_df_cleaned = rent_df_cleaned[~((rent_df_cleaned.price_per_sq_m > 3000) \n",
    "                                    & ((rent_df_cleaned.house_price_sqm_median < 1000) \n",
    "                                       | (rent_df_cleaned.house_price_sqm_median == rent_df_cleaned.price_per_sq_m)))]\n",
    "\n",
    "#Leaving only Saint-Petersburg apartments\n",
    "rent_df_cleaned = rent_df_cleaned[rent_df_cleaned.unified_address.str.contains('Россия, Санкт-Петербург')]\n",
    "\n",
    "# Cleaning from cheap outliers\n",
    "rent_df_cleaned = rent_df_cleaned[~((rent_df_cleaned.price_per_sq_m < 250) \n",
    "                               & (rent_df_cleaned.house_price_sqm_median/rent_df_cleaned.price_per_sq_m >= 2))]\n",
    "rent_df_cleaned = rent_df_cleaned[~((rent_df_cleaned.price_per_sq_m < 200) \n",
    "                                          & (rent_df_cleaned.price_per_sq_m == rent_df_cleaned.house_price_sqm_median))]"
   ]
  },
  {
   "cell_type": "markdown",
   "metadata": {},
   "source": [
    "#### Checking for remaining outliers with a boxplot"
   ]
  },
  {
   "cell_type": "code",
   "execution_count": 6,
   "metadata": {
    "scrolled": true
   },
   "outputs": [
    {
     "name": "stderr",
     "output_type": "stream",
     "text": [
      "/opt/conda/lib/python3.8/site-packages/seaborn/_decorators.py:36: FutureWarning: Pass the following variable as a keyword arg: x. From version 0.12, the only valid positional argument will be `data`, and passing other arguments without an explicit keyword will result in an error or misinterpretation.\n",
      "  warnings.warn(\n"
     ]
    },
    {
     "data": {
      "text/plain": [
       "<AxesSubplot:xlabel='last_price'>"
      ]
     },
     "execution_count": 6,
     "metadata": {},
     "output_type": "execute_result"
    },
    {
     "data": {
      "image/png": "[encoded data removed]",
      "text/plain": [
       "<Figure size 432x288 with 1 Axes>"
      ]
     },
     "metadata": {},
     "output_type": "display_data"
    }
   ],
   "source": [
    "sns.boxplot(rent_df_cleaned['last_price'])"
   ]
  },
  {
   "cell_type": "markdown",
   "metadata": {},
   "source": [
    "#### Creating function for charts"
   ]
  },
  {
   "cell_type": "code",
   "execution_count": 7,
   "metadata": {},
   "outputs": [],
   "source": [
    "def sns_visualize_property(df, feature):\n",
    "\n",
    "    fig, axes = plt.subplots(1, 3, figsize=(15, 5))\n",
    "    fig.suptitle('Price distribustion')\n",
    "\n",
    "    # Histogram\n",
    "    sns.histplot(ax=axes[0], x=df[feature])\n",
    "    axes[0].set_title('Histogram')\n",
    "\n",
    "    # QQ plot\n",
    "    stats.probplot(df[feature], plot=axes[1])\n",
    "    axes[1].set_title('QQ plot')\n",
    "\n",
    "    # Boxplot\n",
    "    sns.boxplot(df[feature], ax = axes[2])\n",
    "    axes[2].set_title('Boxplot')"
   ]
  },
  {
   "cell_type": "markdown",
   "metadata": {},
   "source": [
    "#### Building charts to inspect the distribution of the current data"
   ]
  },
  {
   "cell_type": "code",
   "execution_count": 8,
   "metadata": {},
   "outputs": [
    {
     "name": "stderr",
     "output_type": "stream",
     "text": [
      "/opt/conda/lib/python3.8/site-packages/seaborn/_decorators.py:36: FutureWarning: Pass the following variable as a keyword arg: x. From version 0.12, the only valid positional argument will be `data`, and passing other arguments without an explicit keyword will result in an error or misinterpretation.\n",
      "  warnings.warn(\n"
     ]
    },
    {
     "data": {
      "image/png": "[encoded data removed]",
      "text/plain": [
       "<Figure size 1080x360 with 3 Axes>"
      ]
     },
     "metadata": {},
     "output_type": "display_data"
    }
   ],
   "source": [
    "sns_visualize_property(rent_df_cleaned,'last_price')"
   ]
  },
  {
   "cell_type": "code",
   "execution_count": 9,
   "metadata": {},
   "outputs": [
    {
     "data": {
      "text/plain": [
       "200000.0"
      ]
     },
     "execution_count": 9,
     "metadata": {},
     "output_type": "execute_result"
    }
   ],
   "source": [
    "rent_df_cleaned['last_price'].quantile(0.997)"
   ]
  },
  {
   "cell_type": "code",
   "execution_count": 10,
   "metadata": {},
   "outputs": [],
   "source": [
    "rent_df_cleaned = rent_df_cleaned[rent_df_cleaned['last_price']<rent_df_cleaned['last_price'].quantile(0.997)]"
   ]
  },
  {
   "cell_type": "code",
   "execution_count": 11,
   "metadata": {},
   "outputs": [
    {
     "name": "stderr",
     "output_type": "stream",
     "text": [
      "/opt/conda/lib/python3.8/site-packages/seaborn/_decorators.py:36: FutureWarning: Pass the following variable as a keyword arg: x. From version 0.12, the only valid positional argument will be `data`, and passing other arguments without an explicit keyword will result in an error or misinterpretation.\n",
      "  warnings.warn(\n"
     ]
    },
    {
     "data": {
      "image/png": "[encoded data removed]",
      "text/plain": [
       "<Figure size 1080x360 with 3 Axes>"
      ]
     },
     "metadata": {},
     "output_type": "display_data"
    }
   ],
   "source": [
    "sns_visualize_property(rent_df_cleaned, 'last_price')"
   ]
  },
  {
   "cell_type": "markdown",
   "metadata": {},
   "source": [
    "The target variable last_price is not normally distributed.\n",
    "We'll try to apply logarithmic transformation:"
   ]
  },
  {
   "cell_type": "code",
   "execution_count": 12,
   "metadata": {},
   "outputs": [
    {
     "name": "stderr",
     "output_type": "stream",
     "text": [
      "/opt/conda/lib/python3.8/site-packages/seaborn/_decorators.py:36: FutureWarning: Pass the following variable as a keyword arg: x. From version 0.12, the only valid positional argument will be `data`, and passing other arguments without an explicit keyword will result in an error or misinterpretation.\n",
      "  warnings.warn(\n"
     ]
    },
    {
     "data": {
      "image/png": "[encoded data removed]",
      "text/plain": [
       "<Figure size 1080x360 with 3 Axes>"
      ]
     },
     "metadata": {},
     "output_type": "display_data"
    }
   ],
   "source": [
    "import numpy as np\n",
    "rent_df_cleaned['last_price_log'] = np.log(rent_df_cleaned['last_price'])\n",
    "sns_visualize_property(rent_df_cleaned, 'last_price_log')"
   ]
  },
  {
   "cell_type": "markdown",
   "metadata": {},
   "source": [
    "#### Exploring missing values"
   ]
  },
  {
   "cell_type": "code",
   "execution_count": 13,
   "metadata": {
    "scrolled": false
   },
   "outputs": [
    {
     "data": {
      "text/plain": [
       "<AxesSubplot:>"
      ]
     },
     "execution_count": 13,
     "metadata": {},
     "output_type": "execute_result"
    },
    {
     "data": {
      "image/png": "[encoded data removed]",
      "text/plain": [
       "<Figure size 432x288 with 1 Axes>"
      ]
     },
     "metadata": {},
     "output_type": "display_data"
    }
   ],
   "source": [
    "missing = rent_df_cleaned.isnull().sum()\n",
    "missing = missing[missing>0]\n",
    "missing.sort_values(inplace=True)\n",
    "missing.plot.bar()"
   ]
  },
  {
   "cell_type": "markdown",
   "metadata": {},
   "source": [
    "#### Getting rid of uninformative features"
   ]
  },
  {
   "cell_type": "markdown",
   "metadata": {},
   "source": [
    "We only have one offer_type and category_type in our dataset since we in the begginning only left rent offer. Thus these features can be dropped."
   ]
  },
  {
   "cell_type": "code",
   "execution_count": 14,
   "metadata": {},
   "outputs": [
    {
     "data": {
      "text/plain": [
       "2    155392\n",
       "Name: offer_type, dtype: int64"
      ]
     },
     "execution_count": 14,
     "metadata": {},
     "output_type": "execute_result"
    }
   ],
   "source": [
    "rent_df_cleaned['offer_type'].value_counts()"
   ]
  },
  {
   "cell_type": "code",
   "execution_count": 15,
   "metadata": {},
   "outputs": [
    {
     "data": {
      "text/plain": [
       "2    155392\n",
       "Name: category_type, dtype: int64"
      ]
     },
     "execution_count": 15,
     "metadata": {},
     "output_type": "execute_result"
    }
   ],
   "source": [
    "rent_df_cleaned['category_type'].value_counts()"
   ]
  },
  {
   "cell_type": "code",
   "execution_count": 16,
   "metadata": {},
   "outputs": [],
   "source": [
    "rent_df_cleaned.drop(columns=['category_type','offer_type'], inplace=True)"
   ]
  },
  {
   "cell_type": "markdown",
   "metadata": {},
   "source": [
    "#### Getting rid of features with many missing values"
   ]
  },
  {
   "cell_type": "code",
   "execution_count": 17,
   "metadata": {},
   "outputs": [],
   "source": [
    "rent_df_cleaned.drop(columns=['agent_fee'], inplace=True)"
   ]
  },
  {
   "cell_type": "markdown",
   "metadata": {},
   "source": [
    "#### Filling in missing values in renovation, assuming a missing value here means no renovation"
   ]
  },
  {
   "cell_type": "code",
   "execution_count": 18,
   "metadata": {},
   "outputs": [],
   "source": [
    "rent_df_cleaned['renovation'].fillna(0.0, inplace=True)"
   ]
  },
  {
   "cell_type": "markdown",
   "metadata": {},
   "source": [
    "#### Looking at missing values again"
   ]
  },
  {
   "cell_type": "code",
   "execution_count": 19,
   "metadata": {},
   "outputs": [
    {
     "data": {
      "text/plain": [
       "<AxesSubplot:>"
      ]
     },
     "execution_count": 19,
     "metadata": {},
     "output_type": "execute_result"
    },
    {
     "data": {
      "image/png": "[encoded data removed]",
      "text/plain": [
       "<Figure size 432x288 with 1 Axes>"
      ]
     },
     "metadata": {},
     "output_type": "display_data"
    }
   ],
   "source": [
    "missing = rent_df_cleaned.isnull().sum()\n",
    "missing = missing[missing>0]\n",
    "missing.sort_values(inplace=True)\n",
    "missing.plot.bar()"
   ]
  },
  {
   "cell_type": "markdown",
   "metadata": {},
   "source": [
    "Living_area and Kitchen_area should not be dropped since we expect them to be important for price prediction. They can later be imputed with values (mean, median, or other strategy) and will play a major role in predicting price."
   ]
  },
  {
   "cell_type": "markdown",
   "metadata": {},
   "source": [
    "#### Dropping auxiliary columns used previously for outliers detection and cleaning"
   ]
  },
  {
   "cell_type": "code",
   "execution_count": 20,
   "metadata": {},
   "outputs": [],
   "source": [
    "rent_df_cleaned.drop(columns=['offer_id','price_per_sq_m','house_price_sqm_median'], inplace=True)"
   ]
  },
  {
   "cell_type": "markdown",
   "metadata": {},
   "source": [
    "#### Dropping unified_address of the apartment"
   ]
  },
  {
   "cell_type": "code",
   "execution_count": 21,
   "metadata": {},
   "outputs": [],
   "source": [
    "unified_address = rent_df_cleaned.pop('unified_address')"
   ]
  },
  {
   "cell_type": "markdown",
   "metadata": {},
   "source": [
    "#### Cleaning outliers in kitchen_area"
   ]
  },
  {
   "cell_type": "code",
   "execution_count": 22,
   "metadata": {
    "scrolled": true
   },
   "outputs": [
    {
     "name": "stderr",
     "output_type": "stream",
     "text": [
      "/opt/conda/lib/python3.8/site-packages/seaborn/_decorators.py:36: FutureWarning: Pass the following variable as a keyword arg: x. From version 0.12, the only valid positional argument will be `data`, and passing other arguments without an explicit keyword will result in an error or misinterpretation.\n",
      "  warnings.warn(\n"
     ]
    },
    {
     "data": {
      "text/plain": [
       "<AxesSubplot:xlabel='kitchen_area'>"
      ]
     },
     "execution_count": 22,
     "metadata": {},
     "output_type": "execute_result"
    },
    {
     "data": {
      "image/png": "[encoded data removed]",
      "text/plain": [
       "<Figure size 432x288 with 1 Axes>"
      ]
     },
     "metadata": {},
     "output_type": "display_data"
    }
   ],
   "source": [
    "sns.boxplot(rent_df_cleaned['kitchen_area'])"
   ]
  },
  {
   "cell_type": "code",
   "execution_count": 23,
   "metadata": {},
   "outputs": [
    {
     "data": {
      "text/plain": [
       "45.0"
      ]
     },
     "execution_count": 23,
     "metadata": {},
     "output_type": "execute_result"
    }
   ],
   "source": [
    "rent_df_cleaned['kitchen_area'].quantile(0.997)"
   ]
  },
  {
   "cell_type": "code",
   "execution_count": 24,
   "metadata": {},
   "outputs": [],
   "source": [
    "rent_df_cleaned = rent_df_cleaned[rent_df_cleaned['kitchen_area']<rent_df_cleaned['kitchen_area'].quantile(0.997)]"
   ]
  },
  {
   "cell_type": "code",
   "execution_count": 25,
   "metadata": {
    "scrolled": true
   },
   "outputs": [
    {
     "name": "stderr",
     "output_type": "stream",
     "text": [
      "/opt/conda/lib/python3.8/site-packages/seaborn/_decorators.py:36: FutureWarning: Pass the following variable as a keyword arg: x. From version 0.12, the only valid positional argument will be `data`, and passing other arguments without an explicit keyword will result in an error or misinterpretation.\n",
      "  warnings.warn(\n"
     ]
    },
    {
     "data": {
      "text/plain": [
       "<AxesSubplot:xlabel='kitchen_area'>"
      ]
     },
     "execution_count": 25,
     "metadata": {},
     "output_type": "execute_result"
    },
    {
     "data": {
      "image/png": "[encoded data removed]",
      "text/plain": [
       "<Figure size 432x288 with 1 Axes>"
      ]
     },
     "metadata": {},
     "output_type": "display_data"
    }
   ],
   "source": [
    "sns.boxplot(rent_df_cleaned['kitchen_area'])"
   ]
  },
  {
   "cell_type": "markdown",
   "metadata": {},
   "source": [
    "#### Cleaning outliers in living_area"
   ]
  },
  {
   "cell_type": "code",
   "execution_count": 26,
   "metadata": {
    "scrolled": true
   },
   "outputs": [
    {
     "name": "stderr",
     "output_type": "stream",
     "text": [
      "/opt/conda/lib/python3.8/site-packages/seaborn/_decorators.py:36: FutureWarning: Pass the following variable as a keyword arg: x. From version 0.12, the only valid positional argument will be `data`, and passing other arguments without an explicit keyword will result in an error or misinterpretation.\n",
      "  warnings.warn(\n"
     ]
    },
    {
     "data": {
      "text/plain": [
       "<AxesSubplot:xlabel='living_area'>"
      ]
     },
     "execution_count": 26,
     "metadata": {},
     "output_type": "execute_result"
    },
    {
     "data": {
      "image/png": "[encoded data removed]",
      "text/plain": [
       "<Figure size 432x288 with 1 Axes>"
      ]
     },
     "metadata": {},
     "output_type": "display_data"
    }
   ],
   "source": [
    "sns.boxplot(rent_df_cleaned['living_area'])"
   ]
  },
  {
   "cell_type": "code",
   "execution_count": 27,
   "metadata": {},
   "outputs": [
    {
     "data": {
      "text/plain": [
       "105.0"
      ]
     },
     "execution_count": 27,
     "metadata": {},
     "output_type": "execute_result"
    }
   ],
   "source": [
    "rent_df_cleaned['living_area'].quantile(0.997)"
   ]
  },
  {
   "cell_type": "code",
   "execution_count": 28,
   "metadata": {},
   "outputs": [],
   "source": [
    "rent_df_cleaned = rent_df_cleaned[rent_df_cleaned['living_area']<rent_df_cleaned['living_area'].quantile(0.997)]"
   ]
  },
  {
   "cell_type": "code",
   "execution_count": 29,
   "metadata": {
    "scrolled": true
   },
   "outputs": [
    {
     "name": "stderr",
     "output_type": "stream",
     "text": [
      "/opt/conda/lib/python3.8/site-packages/seaborn/_decorators.py:36: FutureWarning: Pass the following variable as a keyword arg: x. From version 0.12, the only valid positional argument will be `data`, and passing other arguments without an explicit keyword will result in an error or misinterpretation.\n",
      "  warnings.warn(\n"
     ]
    },
    {
     "data": {
      "text/plain": [
       "<AxesSubplot:xlabel='living_area'>"
      ]
     },
     "execution_count": 29,
     "metadata": {},
     "output_type": "execute_result"
    },
    {
     "data": {
      "image/png": "[encoded data removed]",
      "text/plain": [
       "<Figure size 432x288 with 1 Axes>"
      ]
     },
     "metadata": {},
     "output_type": "display_data"
    }
   ],
   "source": [
    "sns.boxplot(rent_df_cleaned['living_area'])"
   ]
  },
  {
   "cell_type": "markdown",
   "metadata": {},
   "source": [
    "## Examining the relationship between price and remaining features"
   ]
  },
  {
   "cell_type": "markdown",
   "metadata": {},
   "source": [
    "Remaining features:"
   ]
  },
  {
   "cell_type": "code",
   "execution_count": 30,
   "metadata": {
    "scrolled": true
   },
   "outputs": [
    {
     "data": {
      "text/plain": [
       "Index(['first_day_exposition', 'last_day_exposition', 'last_price', 'floor', 'open_plan', 'rooms', 'studio', 'area', 'kitchen_area', 'living_area', 'renovation', 'building_id', 'last_price_log'], dtype='object')"
      ]
     },
     "execution_count": 30,
     "metadata": {},
     "output_type": "execute_result"
    }
   ],
   "source": [
    "rent_df_cleaned.columns"
   ]
  },
  {
   "cell_type": "code",
   "execution_count": 31,
   "metadata": {
    "scrolled": true
   },
   "outputs": [
    {
     "name": "stdout",
     "output_type": "stream",
     "text": [
      "<class 'pandas.core.frame.DataFrame'>\n",
      "Int64Index: 113716 entries, 0 to 171185\n",
      "Data columns (total 13 columns):\n",
      " #   Column                Non-Null Count   Dtype  \n",
      "---  ------                --------------   -----  \n",
      " 0   first_day_exposition  113716 non-null  object \n",
      " 1   last_day_exposition   113716 non-null  object \n",
      " 2   last_price            113716 non-null  float64\n",
      " 3   floor                 113716 non-null  int64  \n",
      " 4   open_plan             113716 non-null  bool   \n",
      " 5   rooms                 113716 non-null  int64  \n",
      " 6   studio                113716 non-null  bool   \n",
      " 7   area                  113716 non-null  float64\n",
      " 8   kitchen_area          113716 non-null  float64\n",
      " 9   living_area           113716 non-null  float64\n",
      " 10  renovation            113716 non-null  float64\n",
      " 11  building_id           113716 non-null  int64  \n",
      " 12  last_price_log        113716 non-null  float64\n",
      "dtypes: bool(2), float64(6), int64(3), object(2)\n",
      "memory usage: 10.6+ MB\n"
     ]
    }
   ],
   "source": [
    "rent_df_cleaned.info()"
   ]
  },
  {
   "cell_type": "code",
   "execution_count": 32,
   "metadata": {},
   "outputs": [
    {
     "data": {
      "text/html": [
       "<div>\n",
       "<style scoped>\n",
       "    .dataframe tbody tr th:only-of-type {\n",
       "        vertical-align: middle;\n",
       "    }\n",
       "\n",
       "    .dataframe tbody tr th {\n",
       "        vertical-align: top;\n",
       "    }\n",
       "\n",
       "    .dataframe thead th {\n",
       "        text-align: right;\n",
       "    }\n",
       "</style>\n",
       "<table border=\"1\" class=\"dataframe\">\n",
       "  <thead>\n",
       "    <tr style=\"text-align: right;\">\n",
       "      <th></th>\n",
       "      <th>first_day_exposition</th>\n",
       "      <th>last_day_exposition</th>\n",
       "      <th>last_price</th>\n",
       "      <th>floor</th>\n",
       "      <th>open_plan</th>\n",
       "      <th>rooms</th>\n",
       "      <th>studio</th>\n",
       "      <th>area</th>\n",
       "      <th>kitchen_area</th>\n",
       "      <th>living_area</th>\n",
       "      <th>renovation</th>\n",
       "      <th>building_id</th>\n",
       "      <th>last_price_log</th>\n",
       "    </tr>\n",
       "  </thead>\n",
       "  <tbody>\n",
       "    <tr>\n",
       "      <th>0</th>\n",
       "      <td>2015-01-24T00:00:00+03:00</td>\n",
       "      <td>2016-01-19T00:00:00+03:00</td>\n",
       "      <td>20000.0</td>\n",
       "      <td>7</td>\n",
       "      <td>False</td>\n",
       "      <td>1</td>\n",
       "      <td>False</td>\n",
       "      <td>28.0</td>\n",
       "      <td>8.0</td>\n",
       "      <td>20.0</td>\n",
       "      <td>3.0</td>\n",
       "      <td>6719200042030752141</td>\n",
       "      <td>9.903488</td>\n",
       "    </tr>\n",
       "    <tr>\n",
       "      <th>1</th>\n",
       "      <td>2015-11-17T00:00:00+03:00</td>\n",
       "      <td>2016-03-04T00:00:00+03:00</td>\n",
       "      <td>24000.0</td>\n",
       "      <td>4</td>\n",
       "      <td>False</td>\n",
       "      <td>2</td>\n",
       "      <td>False</td>\n",
       "      <td>59.0</td>\n",
       "      <td>10.0</td>\n",
       "      <td>35.0</td>\n",
       "      <td>3.0</td>\n",
       "      <td>6719200042030752141</td>\n",
       "      <td>10.085809</td>\n",
       "    </tr>\n",
       "    <tr>\n",
       "      <th>2</th>\n",
       "      <td>2015-11-17T00:00:00+03:00</td>\n",
       "      <td>2016-04-24T00:00:00+03:00</td>\n",
       "      <td>18000.0</td>\n",
       "      <td>6</td>\n",
       "      <td>False</td>\n",
       "      <td>1</td>\n",
       "      <td>False</td>\n",
       "      <td>36.0</td>\n",
       "      <td>9.0</td>\n",
       "      <td>17.0</td>\n",
       "      <td>3.0</td>\n",
       "      <td>6719200042030752141</td>\n",
       "      <td>9.798127</td>\n",
       "    </tr>\n",
       "    <tr>\n",
       "      <th>3</th>\n",
       "      <td>2016-02-04T00:00:00+03:00</td>\n",
       "      <td>2016-02-28T00:00:00+03:00</td>\n",
       "      <td>18000.0</td>\n",
       "      <td>8</td>\n",
       "      <td>False</td>\n",
       "      <td>1</td>\n",
       "      <td>False</td>\n",
       "      <td>39.0</td>\n",
       "      <td>10.0</td>\n",
       "      <td>18.0</td>\n",
       "      <td>0.0</td>\n",
       "      <td>6719200042030752141</td>\n",
       "      <td>9.798127</td>\n",
       "    </tr>\n",
       "    <tr>\n",
       "      <th>4</th>\n",
       "      <td>2016-02-28T00:00:00+03:00</td>\n",
       "      <td>2016-04-02T00:00:00+03:00</td>\n",
       "      <td>19000.0</td>\n",
       "      <td>3</td>\n",
       "      <td>False</td>\n",
       "      <td>1</td>\n",
       "      <td>False</td>\n",
       "      <td>36.0</td>\n",
       "      <td>8.0</td>\n",
       "      <td>18.0</td>\n",
       "      <td>11.0</td>\n",
       "      <td>6719200042030752141</td>\n",
       "      <td>9.852194</td>\n",
       "    </tr>\n",
       "  </tbody>\n",
       "</table>\n",
       "</div>"
      ],
      "text/plain": [
       "        first_day_exposition        last_day_exposition  last_price  floor  open_plan  rooms  studio  area  kitchen_area  living_area  renovation          building_id  last_price_log\n",
       "0  2015-01-24T00:00:00+03:00  2016-01-19T00:00:00+03:00     20000.0      7      False      1   False  28.0           8.0         20.0         3.0  6719200042030752141        9.903488\n",
       "1  2015-11-17T00:00:00+03:00  2016-03-04T00:00:00+03:00     24000.0      4      False      2   False  59.0          10.0         35.0         3.0  6719200042030752141       10.085809\n",
       "2  2015-11-17T00:00:00+03:00  2016-04-24T00:00:00+03:00     18000.0      6      False      1   False  36.0           9.0         17.0         3.0  6719200042030752141        9.798127\n",
       "3  2016-02-04T00:00:00+03:00  2016-02-28T00:00:00+03:00     18000.0      8      False      1   False  39.0          10.0         18.0         0.0  6719200042030752141        9.798127\n",
       "4  2016-02-28T00:00:00+03:00  2016-04-02T00:00:00+03:00     19000.0      3      False      1   False  36.0           8.0         18.0        11.0  6719200042030752141        9.852194"
      ]
     },
     "execution_count": 32,
     "metadata": {},
     "output_type": "execute_result"
    }
   ],
   "source": [
    "rent_df_cleaned.head()"
   ]
  },
  {
   "cell_type": "markdown",
   "metadata": {},
   "source": [
    "#### Separating features by data types: boolean, numeric and string"
   ]
  },
  {
   "cell_type": "code",
   "execution_count": 33,
   "metadata": {},
   "outputs": [],
   "source": [
    "from pandas.api.types import is_string_dtype\n",
    "from pandas.api.types import is_numeric_dtype"
   ]
  },
  {
   "cell_type": "code",
   "execution_count": 34,
   "metadata": {
    "scrolled": true
   },
   "outputs": [
    {
     "name": "stdout",
     "output_type": "stream",
     "text": [
      "Binary variables: ['open_plan', 'studio']\n",
      "Numeric variables: ['last_price', 'floor', 'rooms', 'area', 'kitchen_area', 'living_area', 'renovation', 'building_id', 'last_price_log']\n",
      "Qualitative variables: ['first_day_exposition', 'last_day_exposition']\n"
     ]
    }
   ],
   "source": [
    "binary = [f for f in rent_df_cleaned.columns if rent_df_cleaned.dtypes[f] == 'bool']\n",
    "print(\"Binary variables: {}\".format(binary))\n",
    "\n",
    "numeric = [f for f in rent_df_cleaned.columns if is_numeric_dtype(rent_df_cleaned[f])]\n",
    "for f in binary:\n",
    "    numeric.remove(f)\n",
    "print(\"Numeric variables: {}\".format(numeric))\n",
    "\n",
    "qualitative = [f for f in rent_df_cleaned.columns if is_string_dtype(rent_df_cleaned[f])]\n",
    "print(\"Qualitative variables: {}\".format(qualitative))"
   ]
  },
  {
   "cell_type": "markdown",
   "metadata": {},
   "source": [
    "#### Building scatterplots for numeric variables to examine relationship between price and these features"
   ]
  },
  {
   "cell_type": "code",
   "execution_count": 35,
   "metadata": {
    "scrolled": true
   },
   "outputs": [
    {
     "data": {
      "application/vnd.jupyter.widget-view+json": {
       "model_id": "b69751904bf545c286d8fa98958ae11b",
       "version_major": 2,
       "version_minor": 0
      },
      "text/plain": [
       "interactive(children=(Dropdown(description='feature', options=('last_price', 'floor', 'rooms', 'area', 'kitche…"
      ]
     },
     "metadata": {},
     "output_type": "display_data"
    }
   ],
   "source": [
    "from ipywidgets import widgets\n",
    "from IPython.display import display\n",
    "\n",
    "features = {'FEATURE': numeric}\n",
    "\n",
    "def chart(feature):\n",
    "        sns.scatterplot(data=rent_df_cleaned, x=feature, y='last_price')\n",
    "\n",
    "featureW = widgets.Dropdown(options=features['FEATURE'])\n",
    "\n",
    "i = widgets.interactive(chart, feature=featureW) \n",
    "display(i)"
   ]
  },
  {
   "cell_type": "markdown",
   "metadata": {},
   "source": [
    "#### Exploring correlation between features"
   ]
  },
  {
   "cell_type": "code",
   "execution_count": 36,
   "metadata": {},
   "outputs": [
    {
     "data": {
      "text/plain": [
       "<AxesSubplot:>"
      ]
     },
     "execution_count": 36,
     "metadata": {},
     "output_type": "execute_result"
    },
    {
     "data": {
      "image/png": "[encoded data removed]",
      "text/plain": [
       "<Figure size 432x288 with 2 Axes>"
      ]
     },
     "metadata": {},
     "output_type": "display_data"
    }
   ],
   "source": [
    "sns.heatmap(rent_df_cleaned.corr())"
   ]
  },
  {
   "cell_type": "markdown",
   "metadata": {},
   "source": [
    "#### Plotting categorical features"
   ]
  },
  {
   "cell_type": "code",
   "execution_count": 37,
   "metadata": {},
   "outputs": [],
   "source": [
    "categorical = ['floor','open_plan','rooms','renovation','studio']"
   ]
  },
  {
   "cell_type": "code",
   "execution_count": 40,
   "metadata": {
    "scrolled": false
   },
   "outputs": [
    {
     "data": {
      "application/vnd.jupyter.widget-view+json": {
       "model_id": "0ce92e97a36b4d1b87e34dc42db7b6ae",
       "version_major": 2,
       "version_minor": 0
      },
      "text/plain": [
       "interactive(children=(Dropdown(description='feature', options=('floor', 'open_plan', 'rooms', 'renovation', 's…"
      ]
     },
     "metadata": {},
     "output_type": "display_data"
    }
   ],
   "source": [
    "features = {'FEATURE': categorical}\n",
    "\n",
    "def chart(feature):\n",
    "    fig, axes = plt.subplots(1, 2, figsize=(15, 5))\n",
    "    fig.suptitle(feature)\n",
    "    \n",
    "    sns.stripplot(data=rent_df_cleaned, x=feature, y='last_price', ax = axes[0])\n",
    "    axes[1].set_title('Stripplot')\n",
    "    \n",
    "    sns.boxplot(data=rent_df_cleaned, x=feature, y='last_price', ax = axes[1])\n",
    "    axes[1].set_title('Boxplot')\n",
    "\n",
    "        \n",
    "\n",
    "featureW = widgets.Dropdown(options=features['FEATURE'])\n",
    "\n",
    "i = widgets.interactive(chart, feature=featureW) \n",
    "display(i)"
   ]
  },
  {
   "cell_type": "markdown",
   "metadata": {},
   "source": [
    "#### Changing type of boolean variables to integer"
   ]
  },
  {
   "cell_type": "code",
   "execution_count": 41,
   "metadata": {},
   "outputs": [],
   "source": [
    "rent_df_cleaned['open_plan'] = rent_df_cleaned['open_plan'].astype('int')\n",
    "rent_df_cleaned['studio'] = rent_df_cleaned['studio'].astype('int')"
   ]
  },
  {
   "cell_type": "markdown",
   "metadata": {},
   "source": [
    "#### Resulting dataset:"
   ]
  },
  {
   "cell_type": "code",
   "execution_count": 42,
   "metadata": {
    "scrolled": true
   },
   "outputs": [
    {
     "data": {
      "text/html": [
       "<div>\n",
       "<style scoped>\n",
       "    .dataframe tbody tr th:only-of-type {\n",
       "        vertical-align: middle;\n",
       "    }\n",
       "\n",
       "    .dataframe tbody tr th {\n",
       "        vertical-align: top;\n",
       "    }\n",
       "\n",
       "    .dataframe thead th {\n",
       "        text-align: right;\n",
       "    }\n",
       "</style>\n",
       "<table border=\"1\" class=\"dataframe\">\n",
       "  <thead>\n",
       "    <tr style=\"text-align: right;\">\n",
       "      <th></th>\n",
       "      <th>first_day_exposition</th>\n",
       "      <th>last_day_exposition</th>\n",
       "      <th>last_price</th>\n",
       "      <th>floor</th>\n",
       "      <th>open_plan</th>\n",
       "      <th>rooms</th>\n",
       "      <th>studio</th>\n",
       "      <th>area</th>\n",
       "      <th>kitchen_area</th>\n",
       "      <th>living_area</th>\n",
       "      <th>renovation</th>\n",
       "      <th>building_id</th>\n",
       "      <th>last_price_log</th>\n",
       "    </tr>\n",
       "  </thead>\n",
       "  <tbody>\n",
       "    <tr>\n",
       "      <th>0</th>\n",
       "      <td>2015-01-24T00:00:00+03:00</td>\n",
       "      <td>2016-01-19T00:00:00+03:00</td>\n",
       "      <td>20000.0</td>\n",
       "      <td>7</td>\n",
       "      <td>0</td>\n",
       "      <td>1</td>\n",
       "      <td>0</td>\n",
       "      <td>28.0</td>\n",
       "      <td>8.0</td>\n",
       "      <td>20.0</td>\n",
       "      <td>3.0</td>\n",
       "      <td>6719200042030752141</td>\n",
       "      <td>9.903488</td>\n",
       "    </tr>\n",
       "    <tr>\n",
       "      <th>1</th>\n",
       "      <td>2015-11-17T00:00:00+03:00</td>\n",
       "      <td>2016-03-04T00:00:00+03:00</td>\n",
       "      <td>24000.0</td>\n",
       "      <td>4</td>\n",
       "      <td>0</td>\n",
       "      <td>2</td>\n",
       "      <td>0</td>\n",
       "      <td>59.0</td>\n",
       "      <td>10.0</td>\n",
       "      <td>35.0</td>\n",
       "      <td>3.0</td>\n",
       "      <td>6719200042030752141</td>\n",
       "      <td>10.085809</td>\n",
       "    </tr>\n",
       "    <tr>\n",
       "      <th>2</th>\n",
       "      <td>2015-11-17T00:00:00+03:00</td>\n",
       "      <td>2016-04-24T00:00:00+03:00</td>\n",
       "      <td>18000.0</td>\n",
       "      <td>6</td>\n",
       "      <td>0</td>\n",
       "      <td>1</td>\n",
       "      <td>0</td>\n",
       "      <td>36.0</td>\n",
       "      <td>9.0</td>\n",
       "      <td>17.0</td>\n",
       "      <td>3.0</td>\n",
       "      <td>6719200042030752141</td>\n",
       "      <td>9.798127</td>\n",
       "    </tr>\n",
       "    <tr>\n",
       "      <th>3</th>\n",
       "      <td>2016-02-04T00:00:00+03:00</td>\n",
       "      <td>2016-02-28T00:00:00+03:00</td>\n",
       "      <td>18000.0</td>\n",
       "      <td>8</td>\n",
       "      <td>0</td>\n",
       "      <td>1</td>\n",
       "      <td>0</td>\n",
       "      <td>39.0</td>\n",
       "      <td>10.0</td>\n",
       "      <td>18.0</td>\n",
       "      <td>0.0</td>\n",
       "      <td>6719200042030752141</td>\n",
       "      <td>9.798127</td>\n",
       "    </tr>\n",
       "    <tr>\n",
       "      <th>4</th>\n",
       "      <td>2016-02-28T00:00:00+03:00</td>\n",
       "      <td>2016-04-02T00:00:00+03:00</td>\n",
       "      <td>19000.0</td>\n",
       "      <td>3</td>\n",
       "      <td>0</td>\n",
       "      <td>1</td>\n",
       "      <td>0</td>\n",
       "      <td>36.0</td>\n",
       "      <td>8.0</td>\n",
       "      <td>18.0</td>\n",
       "      <td>11.0</td>\n",
       "      <td>6719200042030752141</td>\n",
       "      <td>9.852194</td>\n",
       "    </tr>\n",
       "  </tbody>\n",
       "</table>\n",
       "</div>"
      ],
      "text/plain": [
       "        first_day_exposition        last_day_exposition  last_price  floor  open_plan  rooms  studio  area  kitchen_area  living_area  renovation          building_id  last_price_log\n",
       "0  2015-01-24T00:00:00+03:00  2016-01-19T00:00:00+03:00     20000.0      7          0      1       0  28.0           8.0         20.0         3.0  6719200042030752141        9.903488\n",
       "1  2015-11-17T00:00:00+03:00  2016-03-04T00:00:00+03:00     24000.0      4          0      2       0  59.0          10.0         35.0         3.0  6719200042030752141       10.085809\n",
       "2  2015-11-17T00:00:00+03:00  2016-04-24T00:00:00+03:00     18000.0      6          0      1       0  36.0           9.0         17.0         3.0  6719200042030752141        9.798127\n",
       "3  2016-02-04T00:00:00+03:00  2016-02-28T00:00:00+03:00     18000.0      8          0      1       0  39.0          10.0         18.0         0.0  6719200042030752141        9.798127\n",
       "4  2016-02-28T00:00:00+03:00  2016-04-02T00:00:00+03:00     19000.0      3          0      1       0  36.0           8.0         18.0        11.0  6719200042030752141        9.852194"
      ]
     },
     "execution_count": 42,
     "metadata": {},
     "output_type": "execute_result"
    }
   ],
   "source": [
    "rent_df_cleaned.head(5)"
   ]
  },
  {
   "cell_type": "markdown",
   "metadata": {},
   "source": [
    "# Self-control stops\n",
    "1. What other factors might influence price? Think of the factors which can be actually calculated and included in the model.\n",
    "2. Compete with other teams to create the best solution. You can play with factors and algorithm parameters to come up with it."
   ]
  },
  {
   "cell_type": "markdown",
   "metadata": {},
   "source": [
    "## 1. What other factors might influence price? Think of the factors which can be actually calculated and included in the model."
   ]
  },
  {
   "cell_type": "markdown",
   "metadata": {},
   "source": [
    "#### Year of initial publication of the offer on the website"
   ]
  },
  {
   "cell_type": "markdown",
   "metadata": {},
   "source": [
    "Real estate prices are mostly rising as the time goes by. And although with the sell prices the trend is not generally linear as purchase real estate prices tend to fluctuate a lot due to a number of external factors, RENT prices, <i>we assume</i>, grow more straightforwardly: these prices depend more on landlords' decisions, who our usually individuals, private citizens, who are influenced in their daily lives by inflation, thus <i>we suppose</i> they raise the <i>nominal</i> rent price for their offers over time to account for this inflation that impacts them personally, and to keep their rental income <i>in real terms</i>.\n",
    "<p>Thus we want to take into account <b>the year</b> of offer publication, since yearly inflation is a more interpretable measure.</p>"
   ]
  },
  {
   "cell_type": "code",
   "execution_count": 43,
   "metadata": {},
   "outputs": [],
   "source": [
    "rent_df_cleaned['year'] = rent_df_cleaned.first_day_exposition.str.slice(start=0, stop=4).astype(int)"
   ]
  },
  {
   "cell_type": "code",
   "execution_count": 44,
   "metadata": {},
   "outputs": [
    {
     "data": {
      "text/plain": [
       "0         2015\n",
       "1         2015\n",
       "2         2015\n",
       "3         2016\n",
       "4         2016\n",
       "          ... \n",
       "171179    2018\n",
       "171180    2018\n",
       "171182    2018\n",
       "171184    2018\n",
       "171185    2017\n",
       "Name: year, Length: 113716, dtype: int64"
      ]
     },
     "execution_count": 44,
     "metadata": {},
     "output_type": "execute_result"
    }
   ],
   "source": [
    "rent_df_cleaned['year']"
   ]
  },
  {
   "cell_type": "code",
   "execution_count": 45,
   "metadata": {},
   "outputs": [
    {
     "data": {
      "text/plain": [
       "dtype('int64')"
      ]
     },
     "execution_count": 45,
     "metadata": {},
     "output_type": "execute_result"
    }
   ],
   "source": [
    "rent_df_cleaned['year'].dtype"
   ]
  },
  {
   "cell_type": "markdown",
   "metadata": {},
   "source": [
    "#### Exposition duration: time from first to last day of exposition in days"
   ]
  },
  {
   "cell_type": "markdown",
   "metadata": {},
   "source": [
    "Since our target variable is last_price, meaning it's the last from the whole range of prices for a particular apartment during the whole period of exposition, <i>we can assume</i> the time plays a role in the last_price formation. From common sense <i>we may suppose</i> that, as the time goes by, the longer the apartment is on the market, the lower the price will be. At the same time, the inflation plays its part: especially for apartments for RENT, the price tends to insrease as the time goes by. All in all, this way we can expect <b>exposition duration</b> to be an influential factor for the apartment price."
   ]
  },
  {
   "cell_type": "code",
   "execution_count": 72,
   "metadata": {},
   "outputs": [],
   "source": [
    "rent_df_cleaned['exposition_duration'] = pd.to_datetime(rent_df_cleaned.last_day_exposition) - pd.to_datetime(rent_df_cleaned.first_day_exposition)\n",
    "rent_df_cleaned.exposition_duration = rent_df_cleaned.exposition_duration.dt.days"
   ]
  },
  {
   "cell_type": "code",
   "execution_count": 73,
   "metadata": {},
   "outputs": [
    {
     "data": {
      "text/html": [
       "<div>\n",
       "<style scoped>\n",
       "    .dataframe tbody tr th:only-of-type {\n",
       "        vertical-align: middle;\n",
       "    }\n",
       "\n",
       "    .dataframe tbody tr th {\n",
       "        vertical-align: top;\n",
       "    }\n",
       "\n",
       "    .dataframe thead th {\n",
       "        text-align: right;\n",
       "    }\n",
       "</style>\n",
       "<table border=\"1\" class=\"dataframe\">\n",
       "  <thead>\n",
       "    <tr style=\"text-align: right;\">\n",
       "      <th></th>\n",
       "      <th>first_day_exposition</th>\n",
       "      <th>last_day_exposition</th>\n",
       "      <th>last_price</th>\n",
       "      <th>floor</th>\n",
       "      <th>open_plan</th>\n",
       "      <th>rooms</th>\n",
       "      <th>studio</th>\n",
       "      <th>area</th>\n",
       "      <th>kitchen_area</th>\n",
       "      <th>living_area</th>\n",
       "      <th>renovation</th>\n",
       "      <th>building_id</th>\n",
       "      <th>last_price_log</th>\n",
       "      <th>year</th>\n",
       "      <th>exposition_duration</th>\n",
       "      <th>av_room_area</th>\n",
       "    </tr>\n",
       "  </thead>\n",
       "  <tbody>\n",
       "    <tr>\n",
       "      <th>0</th>\n",
       "      <td>2015-01-24T00:00:00+03:00</td>\n",
       "      <td>2016-01-19T00:00:00+03:00</td>\n",
       "      <td>20000.0</td>\n",
       "      <td>7</td>\n",
       "      <td>0</td>\n",
       "      <td>1</td>\n",
       "      <td>0</td>\n",
       "      <td>28.0</td>\n",
       "      <td>8.0</td>\n",
       "      <td>20.0</td>\n",
       "      <td>3.0</td>\n",
       "      <td>6719200042030752141</td>\n",
       "      <td>9.903488</td>\n",
       "      <td>2015</td>\n",
       "      <td>360</td>\n",
       "      <td>20.0</td>\n",
       "    </tr>\n",
       "    <tr>\n",
       "      <th>1</th>\n",
       "      <td>2015-11-17T00:00:00+03:00</td>\n",
       "      <td>2016-03-04T00:00:00+03:00</td>\n",
       "      <td>24000.0</td>\n",
       "      <td>4</td>\n",
       "      <td>0</td>\n",
       "      <td>2</td>\n",
       "      <td>0</td>\n",
       "      <td>59.0</td>\n",
       "      <td>10.0</td>\n",
       "      <td>35.0</td>\n",
       "      <td>3.0</td>\n",
       "      <td>6719200042030752141</td>\n",
       "      <td>10.085809</td>\n",
       "      <td>2015</td>\n",
       "      <td>108</td>\n",
       "      <td>18.0</td>\n",
       "    </tr>\n",
       "    <tr>\n",
       "      <th>2</th>\n",
       "      <td>2015-11-17T00:00:00+03:00</td>\n",
       "      <td>2016-04-24T00:00:00+03:00</td>\n",
       "      <td>18000.0</td>\n",
       "      <td>6</td>\n",
       "      <td>0</td>\n",
       "      <td>1</td>\n",
       "      <td>0</td>\n",
       "      <td>36.0</td>\n",
       "      <td>9.0</td>\n",
       "      <td>17.0</td>\n",
       "      <td>3.0</td>\n",
       "      <td>6719200042030752141</td>\n",
       "      <td>9.798127</td>\n",
       "      <td>2015</td>\n",
       "      <td>159</td>\n",
       "      <td>17.0</td>\n",
       "    </tr>\n",
       "    <tr>\n",
       "      <th>3</th>\n",
       "      <td>2016-02-04T00:00:00+03:00</td>\n",
       "      <td>2016-02-28T00:00:00+03:00</td>\n",
       "      <td>18000.0</td>\n",
       "      <td>8</td>\n",
       "      <td>0</td>\n",
       "      <td>1</td>\n",
       "      <td>0</td>\n",
       "      <td>39.0</td>\n",
       "      <td>10.0</td>\n",
       "      <td>18.0</td>\n",
       "      <td>0.0</td>\n",
       "      <td>6719200042030752141</td>\n",
       "      <td>9.798127</td>\n",
       "      <td>2016</td>\n",
       "      <td>24</td>\n",
       "      <td>18.0</td>\n",
       "    </tr>\n",
       "    <tr>\n",
       "      <th>4</th>\n",
       "      <td>2016-02-28T00:00:00+03:00</td>\n",
       "      <td>2016-04-02T00:00:00+03:00</td>\n",
       "      <td>19000.0</td>\n",
       "      <td>3</td>\n",
       "      <td>0</td>\n",
       "      <td>1</td>\n",
       "      <td>0</td>\n",
       "      <td>36.0</td>\n",
       "      <td>8.0</td>\n",
       "      <td>18.0</td>\n",
       "      <td>11.0</td>\n",
       "      <td>6719200042030752141</td>\n",
       "      <td>9.852194</td>\n",
       "      <td>2016</td>\n",
       "      <td>34</td>\n",
       "      <td>18.0</td>\n",
       "    </tr>\n",
       "  </tbody>\n",
       "</table>\n",
       "</div>"
      ],
      "text/plain": [
       "        first_day_exposition        last_day_exposition  last_price  floor  open_plan  rooms  studio  area  kitchen_area  living_area  renovation          building_id  last_price_log  year  exposition_duration  av_room_area\n",
       "0  2015-01-24T00:00:00+03:00  2016-01-19T00:00:00+03:00     20000.0      7          0      1       0  28.0           8.0         20.0         3.0  6719200042030752141        9.903488  2015                  360          20.0\n",
       "1  2015-11-17T00:00:00+03:00  2016-03-04T00:00:00+03:00     24000.0      4          0      2       0  59.0          10.0         35.0         3.0  6719200042030752141       10.085809  2015                  108          18.0\n",
       "2  2015-11-17T00:00:00+03:00  2016-04-24T00:00:00+03:00     18000.0      6          0      1       0  36.0           9.0         17.0         3.0  6719200042030752141        9.798127  2015                  159          17.0\n",
       "3  2016-02-04T00:00:00+03:00  2016-02-28T00:00:00+03:00     18000.0      8          0      1       0  39.0          10.0         18.0         0.0  6719200042030752141        9.798127  2016                   24          18.0\n",
       "4  2016-02-28T00:00:00+03:00  2016-04-02T00:00:00+03:00     19000.0      3          0      1       0  36.0           8.0         18.0        11.0  6719200042030752141        9.852194  2016                   34          18.0"
      ]
     },
     "execution_count": 73,
     "metadata": {},
     "output_type": "execute_result"
    }
   ],
   "source": [
    "rent_df_cleaned.head(5)"
   ]
  },
  {
   "cell_type": "markdown",
   "metadata": {},
   "source": [
    "#### Average room size"
   ]
  },
  {
   "cell_type": "markdown",
   "metadata": {},
   "source": [
    "We'll also take into account the <b>average size of room</b>, calculated as the total living area of the apartment, divided by the number of habitable rooms (feature <i>'rooms'</i>). This <i>might be important</i> since two apartments can be equally large, but one will have a lot of small rooms, and another will have few, but large rooms, and these 2 apartments, despite similar total living area, might be priced differently and perceived differently by potential customers.\n",
    "<p>Alternatively, 2 apartment can have similar number of rooms, but these rooms will differ in area, and larger rooms are usually priced higher.</p>\n",
    "<p>All in all, we're getting at the fact that while both features <i>'rooms'</i> and <i>'living area'</i> are important for the price individually, they might not completely, exhaustively explain the dependency between apartment's parameters and its price. We would also like to look at the interaction of these 2 features, and calculating auxiliary feature <b><i>'average size of room'</i></b> might be a good solution.</p>"
   ]
  },
  {
   "cell_type": "code",
   "execution_count": 75,
   "metadata": {},
   "outputs": [],
   "source": [
    "rent_df_cleaned['av_room_area'] = (rent_df_cleaned.living_area / rent_df_cleaned.rooms).round()"
   ]
  },
  {
   "cell_type": "code",
   "execution_count": 76,
   "metadata": {},
   "outputs": [
    {
     "data": {
      "text/html": [
       "<div>\n",
       "<style scoped>\n",
       "    .dataframe tbody tr th:only-of-type {\n",
       "        vertical-align: middle;\n",
       "    }\n",
       "\n",
       "    .dataframe tbody tr th {\n",
       "        vertical-align: top;\n",
       "    }\n",
       "\n",
       "    .dataframe thead th {\n",
       "        text-align: right;\n",
       "    }\n",
       "</style>\n",
       "<table border=\"1\" class=\"dataframe\">\n",
       "  <thead>\n",
       "    <tr style=\"text-align: right;\">\n",
       "      <th></th>\n",
       "      <th>first_day_exposition</th>\n",
       "      <th>last_day_exposition</th>\n",
       "      <th>last_price</th>\n",
       "      <th>floor</th>\n",
       "      <th>open_plan</th>\n",
       "      <th>rooms</th>\n",
       "      <th>studio</th>\n",
       "      <th>area</th>\n",
       "      <th>kitchen_area</th>\n",
       "      <th>living_area</th>\n",
       "      <th>renovation</th>\n",
       "      <th>building_id</th>\n",
       "      <th>last_price_log</th>\n",
       "      <th>year</th>\n",
       "      <th>exposition_duration</th>\n",
       "      <th>av_room_area</th>\n",
       "    </tr>\n",
       "  </thead>\n",
       "  <tbody>\n",
       "    <tr>\n",
       "      <th>0</th>\n",
       "      <td>2015-01-24T00:00:00+03:00</td>\n",
       "      <td>2016-01-19T00:00:00+03:00</td>\n",
       "      <td>20000.0</td>\n",
       "      <td>7</td>\n",
       "      <td>0</td>\n",
       "      <td>1</td>\n",
       "      <td>0</td>\n",
       "      <td>28.0</td>\n",
       "      <td>8.0</td>\n",
       "      <td>20.0</td>\n",
       "      <td>3.0</td>\n",
       "      <td>6719200042030752141</td>\n",
       "      <td>9.903488</td>\n",
       "      <td>2015</td>\n",
       "      <td>360</td>\n",
       "      <td>20.0</td>\n",
       "    </tr>\n",
       "    <tr>\n",
       "      <th>1</th>\n",
       "      <td>2015-11-17T00:00:00+03:00</td>\n",
       "      <td>2016-03-04T00:00:00+03:00</td>\n",
       "      <td>24000.0</td>\n",
       "      <td>4</td>\n",
       "      <td>0</td>\n",
       "      <td>2</td>\n",
       "      <td>0</td>\n",
       "      <td>59.0</td>\n",
       "      <td>10.0</td>\n",
       "      <td>35.0</td>\n",
       "      <td>3.0</td>\n",
       "      <td>6719200042030752141</td>\n",
       "      <td>10.085809</td>\n",
       "      <td>2015</td>\n",
       "      <td>108</td>\n",
       "      <td>18.0</td>\n",
       "    </tr>\n",
       "    <tr>\n",
       "      <th>2</th>\n",
       "      <td>2015-11-17T00:00:00+03:00</td>\n",
       "      <td>2016-04-24T00:00:00+03:00</td>\n",
       "      <td>18000.0</td>\n",
       "      <td>6</td>\n",
       "      <td>0</td>\n",
       "      <td>1</td>\n",
       "      <td>0</td>\n",
       "      <td>36.0</td>\n",
       "      <td>9.0</td>\n",
       "      <td>17.0</td>\n",
       "      <td>3.0</td>\n",
       "      <td>6719200042030752141</td>\n",
       "      <td>9.798127</td>\n",
       "      <td>2015</td>\n",
       "      <td>159</td>\n",
       "      <td>17.0</td>\n",
       "    </tr>\n",
       "    <tr>\n",
       "      <th>3</th>\n",
       "      <td>2016-02-04T00:00:00+03:00</td>\n",
       "      <td>2016-02-28T00:00:00+03:00</td>\n",
       "      <td>18000.0</td>\n",
       "      <td>8</td>\n",
       "      <td>0</td>\n",
       "      <td>1</td>\n",
       "      <td>0</td>\n",
       "      <td>39.0</td>\n",
       "      <td>10.0</td>\n",
       "      <td>18.0</td>\n",
       "      <td>0.0</td>\n",
       "      <td>6719200042030752141</td>\n",
       "      <td>9.798127</td>\n",
       "      <td>2016</td>\n",
       "      <td>24</td>\n",
       "      <td>18.0</td>\n",
       "    </tr>\n",
       "    <tr>\n",
       "      <th>4</th>\n",
       "      <td>2016-02-28T00:00:00+03:00</td>\n",
       "      <td>2016-04-02T00:00:00+03:00</td>\n",
       "      <td>19000.0</td>\n",
       "      <td>3</td>\n",
       "      <td>0</td>\n",
       "      <td>1</td>\n",
       "      <td>0</td>\n",
       "      <td>36.0</td>\n",
       "      <td>8.0</td>\n",
       "      <td>18.0</td>\n",
       "      <td>11.0</td>\n",
       "      <td>6719200042030752141</td>\n",
       "      <td>9.852194</td>\n",
       "      <td>2016</td>\n",
       "      <td>34</td>\n",
       "      <td>18.0</td>\n",
       "    </tr>\n",
       "  </tbody>\n",
       "</table>\n",
       "</div>"
      ],
      "text/plain": [
       "        first_day_exposition        last_day_exposition  last_price  floor  open_plan  rooms  studio  area  kitchen_area  living_area  renovation          building_id  last_price_log  year  exposition_duration  av_room_area\n",
       "0  2015-01-24T00:00:00+03:00  2016-01-19T00:00:00+03:00     20000.0      7          0      1       0  28.0           8.0         20.0         3.0  6719200042030752141        9.903488  2015                  360          20.0\n",
       "1  2015-11-17T00:00:00+03:00  2016-03-04T00:00:00+03:00     24000.0      4          0      2       0  59.0          10.0         35.0         3.0  6719200042030752141       10.085809  2015                  108          18.0\n",
       "2  2015-11-17T00:00:00+03:00  2016-04-24T00:00:00+03:00     18000.0      6          0      1       0  36.0           9.0         17.0         3.0  6719200042030752141        9.798127  2015                  159          17.0\n",
       "3  2016-02-04T00:00:00+03:00  2016-02-28T00:00:00+03:00     18000.0      8          0      1       0  39.0          10.0         18.0         0.0  6719200042030752141        9.798127  2016                   24          18.0\n",
       "4  2016-02-28T00:00:00+03:00  2016-04-02T00:00:00+03:00     19000.0      3          0      1       0  36.0           8.0         18.0        11.0  6719200042030752141        9.852194  2016                   34          18.0"
      ]
     },
     "execution_count": 76,
     "metadata": {},
     "output_type": "execute_result"
    }
   ],
   "source": [
    "rent_df_cleaned.head(5)"
   ]
  },
  {
   "cell_type": "markdown",
   "metadata": {},
   "source": [
    "## 2. Compete with other teams to create the best solution. You can play with factors and algorithm parameters to come up with it."
   ]
  },
  {
   "cell_type": "markdown",
   "metadata": {},
   "source": [
    "### First 'naive' attempt to build a predictive model:"
   ]
  },
  {
   "cell_type": "markdown",
   "metadata": {},
   "source": [
    "#### Splitting data into train and test (hold-out) subsamples"
   ]
  },
  {
   "cell_type": "code",
   "execution_count": 86,
   "metadata": {},
   "outputs": [],
   "source": [
    "train_df = rent_df_cleaned[(rent_df_cleaned.first_day_exposition >= '2018-01-01') \n",
    "                          & (rent_df_cleaned.first_day_exposition < '2018-04-01')]\n",
    "\n",
    "X_train = train_df.drop(['last_price', 'last_price_log'], axis=1)\n",
    "\n",
    "X_train.first_day_exposition = pd.to_datetime(X_train.first_day_exposition)\n",
    "X_train.first_day_exposition = X_train.first_day_exposition.apply(lambda x: x.value)\n",
    "\n",
    "X_train.last_day_exposition = pd.to_datetime(X_train.last_day_exposition)\n",
    "X_train.last_day_exposition = X_train.last_day_exposition.apply(lambda x: x.value)\n",
    "\n",
    "y_train = train_df.last_price"
   ]
  },
  {
   "cell_type": "code",
   "execution_count": 89,
   "metadata": {},
   "outputs": [],
   "source": [
    "test_df = rent_df_cleaned[(rent_df_cleaned.first_day_exposition >= '2018-04-01') \n",
    "                          & (rent_df_cleaned.first_day_exposition < '2018-06-01')]\n",
    "\n",
    "X_test = test_df.drop(['last_price', 'last_price_log'], axis=1)\n",
    "\n",
    "X_test.first_day_exposition = pd.to_datetime(X_test.first_day_exposition)\n",
    "X_test.first_day_exposition = X_test.first_day_exposition.apply(lambda x: x.value)\n",
    "\n",
    "X_test.last_day_exposition = pd.to_datetime(X_test.last_day_exposition)\n",
    "X_test.last_day_exposition = X_test.last_day_exposition.apply(lambda x: x.value)\n",
    "\n",
    "y_test = test_df.last_price"
   ]
  },
  {
   "cell_type": "markdown",
   "metadata": {},
   "source": [
    "#### Importing Sklearn tools"
   ]
  },
  {
   "cell_type": "code",
   "execution_count": 92,
   "metadata": {},
   "outputs": [],
   "source": [
    "from sklearn.model_selection import train_test_split, GridSearchCV\n",
    "from sklearn.preprocessing import PolynomialFeatures\n",
    "from sklearn.linear_model import LinearRegression, ElasticNet, Lasso, Ridge\n",
    "\n",
    "from sklearn.pipeline import Pipeline\n",
    "from sklearn.model_selection import train_test_split, GridSearchCV"
   ]
  },
  {
   "cell_type": "markdown",
   "metadata": {},
   "source": [
    "#### Choosing linear model through GridSearch"
   ]
  },
  {
   "cell_type": "code",
   "execution_count": 85,
   "metadata": {
    "scrolled": true
   },
   "outputs": [
    {
     "name": "stdout",
     "output_type": "stream",
     "text": [
      "Fitting 5 folds for each of 25 candidates, totalling 125 fits\n"
     ]
    },
    {
     "name": "stderr",
     "output_type": "stream",
     "text": [
      "/opt/conda/lib/python3.8/site-packages/sklearn/linear_model/_coordinate_descent.py:530: ConvergenceWarning: Objective did not converge. You might want to increase the number of iterations. Duality gap: 544509014131.4196, tolerance: 254320110.8293673\n",
      "  model = cd_fast.enet_coordinate_descent(\n",
      "/opt/conda/lib/python3.8/site-packages/sklearn/linear_model/_coordinate_descent.py:530: ConvergenceWarning: Objective did not converge. You might want to increase the number of iterations. Duality gap: 525549901049.13007, tolerance: 251736379.41323665\n",
      "  model = cd_fast.enet_coordinate_descent(\n",
      "/opt/conda/lib/python3.8/site-packages/sklearn/linear_model/_coordinate_descent.py:530: ConvergenceWarning: Objective did not converge. You might want to increase the number of iterations. Duality gap: 550952278063.6014, tolerance: 267654996.36957726\n",
      "  model = cd_fast.enet_coordinate_descent(\n",
      "/opt/conda/lib/python3.8/site-packages/sklearn/linear_model/_coordinate_descent.py:530: ConvergenceWarning: Objective did not converge. You might want to increase the number of iterations. Duality gap: 539564253244.1114, tolerance: 255133023.95530772\n",
      "  model = cd_fast.enet_coordinate_descent(\n",
      "/opt/conda/lib/python3.8/site-packages/sklearn/linear_model/_coordinate_descent.py:530: ConvergenceWarning: Objective did not converge. You might want to increase the number of iterations. Duality gap: 534887825123.73883, tolerance: 257601102.49851072\n",
      "  model = cd_fast.enet_coordinate_descent(\n",
      "/opt/conda/lib/python3.8/site-packages/sklearn/linear_model/_coordinate_descent.py:530: ConvergenceWarning: Objective did not converge. You might want to increase the number of iterations. Duality gap: 538410193343.05426, tolerance: 255133023.95530772\n",
      "  model = cd_fast.enet_coordinate_descent(\n",
      "/opt/conda/lib/python3.8/site-packages/sklearn/linear_model/_coordinate_descent.py:530: ConvergenceWarning: Objective did not converge. You might want to increase the number of iterations. Duality gap: 524411051246.9455, tolerance: 251736379.41323665\n",
      "  model = cd_fast.enet_coordinate_descent(\n",
      "/opt/conda/lib/python3.8/site-packages/sklearn/linear_model/_coordinate_descent.py:530: ConvergenceWarning: Objective did not converge. You might want to increase the number of iterations. Duality gap: 537316443063.4424, tolerance: 255133023.95530772\n",
      "  model = cd_fast.enet_coordinate_descent(\n",
      "/opt/conda/lib/python3.8/site-packages/sklearn/linear_model/_coordinate_descent.py:530: ConvergenceWarning: Objective did not converge. You might want to increase the number of iterations. Duality gap: 546754503173.0798, tolerance: 254320110.8293673\n",
      "  model = cd_fast.enet_coordinate_descent(\n",
      "/opt/conda/lib/python3.8/site-packages/sklearn/linear_model/_coordinate_descent.py:530: ConvergenceWarning: Objective did not converge. You might want to increase the number of iterations. Duality gap: 527255808480.9643, tolerance: 251736379.41323665\n",
      "  model = cd_fast.enet_coordinate_descent(\n",
      "/opt/conda/lib/python3.8/site-packages/sklearn/linear_model/_coordinate_descent.py:530: ConvergenceWarning: Objective did not converge. You might want to increase the number of iterations. Duality gap: 553010918643.6962, tolerance: 267654996.36957726\n",
      "  model = cd_fast.enet_coordinate_descent(\n",
      "/opt/conda/lib/python3.8/site-packages/sklearn/linear_model/_coordinate_descent.py:530: ConvergenceWarning: Objective did not converge. You might want to increase the number of iterations. Duality gap: 542084079013.3927, tolerance: 255133023.95530772\n",
      "  model = cd_fast.enet_coordinate_descent(\n",
      "/opt/conda/lib/python3.8/site-packages/sklearn/linear_model/_coordinate_descent.py:530: ConvergenceWarning: Objective did not converge. You might want to increase the number of iterations. Duality gap: 537100911308.74207, tolerance: 257601102.49851072\n",
      "  model = cd_fast.enet_coordinate_descent(\n",
      "/opt/conda/lib/python3.8/site-packages/sklearn/linear_model/_coordinate_descent.py:530: ConvergenceWarning: Objective did not converge. You might want to increase the number of iterations. Duality gap: 552629700879.5547, tolerance: 267654996.36957726\n",
      "  model = cd_fast.enet_coordinate_descent(\n",
      "/opt/conda/lib/python3.8/site-packages/sklearn/linear_model/_coordinate_descent.py:530: ConvergenceWarning: Objective did not converge. You might want to increase the number of iterations. Duality gap: 541665434895.37335, tolerance: 255133023.95530772\n",
      "  model = cd_fast.enet_coordinate_descent(\n",
      "/opt/conda/lib/python3.8/site-packages/sklearn/linear_model/_coordinate_descent.py:530: ConvergenceWarning: Objective did not converge. You might want to increase the number of iterations. Duality gap: 535234652697.2119, tolerance: 255133023.95530772\n",
      "  model = cd_fast.enet_coordinate_descent(\n",
      "/opt/conda/lib/python3.8/site-packages/sklearn/linear_model/_coordinate_descent.py:530: ConvergenceWarning: Objective did not converge. You might want to increase the number of iterations. Duality gap: 547804950038.7798, tolerance: 254320110.8293673\n",
      "  model = cd_fast.enet_coordinate_descent(\n",
      "/opt/conda/lib/python3.8/site-packages/sklearn/linear_model/_coordinate_descent.py:530: ConvergenceWarning: Objective did not converge. You might want to increase the number of iterations. Duality gap: 528219812833.8486, tolerance: 251736379.41323665\n",
      "  model = cd_fast.enet_coordinate_descent(\n",
      "/opt/conda/lib/python3.8/site-packages/sklearn/linear_model/_coordinate_descent.py:530: ConvergenceWarning: Objective did not converge. You might want to increase the number of iterations. Duality gap: 554051293751.2866, tolerance: 267654996.36957726\n",
      "  model = cd_fast.enet_coordinate_descent(\n",
      "/opt/conda/lib/python3.8/site-packages/sklearn/linear_model/_coordinate_descent.py:530: ConvergenceWarning: Objective did not converge. You might want to increase the number of iterations. Duality gap: 543169346306.54504, tolerance: 255133023.95530772\n",
      "  model = cd_fast.enet_coordinate_descent(\n",
      "/opt/conda/lib/python3.8/site-packages/sklearn/linear_model/_coordinate_descent.py:530: ConvergenceWarning: Objective did not converge. You might want to increase the number of iterations. Duality gap: 538197765133.8417, tolerance: 257601102.49851072\n",
      "  model = cd_fast.enet_coordinate_descent(\n",
      "/opt/conda/lib/python3.8/site-packages/sklearn/linear_model/_coordinate_descent.py:530: ConvergenceWarning: Objective did not converge. You might want to increase the number of iterations. Duality gap: 547256126018.15546, tolerance: 254320110.8293673\n",
      "  model = cd_fast.enet_coordinate_descent(\n",
      "/opt/conda/lib/python3.8/site-packages/sklearn/linear_model/_coordinate_descent.py:530: ConvergenceWarning: Objective did not converge. You might want to increase the number of iterations. Duality gap: 542606093119.5074, tolerance: 255133023.95530772\n",
      "  model = cd_fast.enet_coordinate_descent(\n",
      "/opt/conda/lib/python3.8/site-packages/sklearn/linear_model/_coordinate_descent.py:530: ConvergenceWarning: Objective did not converge. You might want to increase the number of iterations. Duality gap: 541951121843.2803, tolerance: 255133023.95530772\n",
      "  model = cd_fast.enet_coordinate_descent(\n",
      "/opt/conda/lib/python3.8/site-packages/sklearn/linear_model/_coordinate_descent.py:530: ConvergenceWarning: Objective did not converge. You might want to increase the number of iterations. Duality gap: 540995311885.3567, tolerance: 255133023.95530772\n",
      "  model = cd_fast.enet_coordinate_descent(\n",
      "/opt/conda/lib/python3.8/site-packages/sklearn/linear_model/_coordinate_descent.py:530: ConvergenceWarning: Objective did not converge. You might want to increase the number of iterations. Duality gap: 541188281400.49084, tolerance: 254320110.8293673\n",
      "  model = cd_fast.enet_coordinate_descent(\n",
      "/opt/conda/lib/python3.8/site-packages/sklearn/linear_model/_coordinate_descent.py:530: ConvergenceWarning: Objective did not converge. You might want to increase the number of iterations. Duality gap: 535249502693.29114, tolerance: 255133023.95530772\n",
      "  model = cd_fast.enet_coordinate_descent(\n",
      "/opt/conda/lib/python3.8/site-packages/sklearn/linear_model/_coordinate_descent.py:530: ConvergenceWarning: Objective did not converge. You might want to increase the number of iterations. Duality gap: 548721337151.2967, tolerance: 254320110.8293673\n",
      "  model = cd_fast.enet_coordinate_descent(\n"
     ]
    },
    {
     "name": "stderr",
     "output_type": "stream",
     "text": [
      "/opt/conda/lib/python3.8/site-packages/sklearn/linear_model/_coordinate_descent.py:530: ConvergenceWarning: Objective did not converge. You might want to increase the number of iterations. Duality gap: 529092872603.7605, tolerance: 251736379.41323665\n",
      "  model = cd_fast.enet_coordinate_descent(\n",
      "/opt/conda/lib/python3.8/site-packages/sklearn/linear_model/_coordinate_descent.py:530: ConvergenceWarning: Objective did not converge. You might want to increase the number of iterations. Duality gap: 554973310711.3989, tolerance: 267654996.36957726\n",
      "  model = cd_fast.enet_coordinate_descent(\n",
      "/opt/conda/lib/python3.8/site-packages/sklearn/linear_model/_coordinate_descent.py:530: ConvergenceWarning: Objective did not converge. You might want to increase the number of iterations. Duality gap: 544098441918.7207, tolerance: 255133023.95530772\n",
      "  model = cd_fast.enet_coordinate_descent(\n",
      "/opt/conda/lib/python3.8/site-packages/sklearn/linear_model/_coordinate_descent.py:530: ConvergenceWarning: Objective did not converge. You might want to increase the number of iterations. Duality gap: 539168768304.3267, tolerance: 257601102.49851072\n",
      "  model = cd_fast.enet_coordinate_descent(\n",
      "/opt/conda/lib/python3.8/site-packages/sklearn/linear_model/_coordinate_descent.py:530: ConvergenceWarning: Objective did not converge. You might want to increase the number of iterations. Duality gap: 528399589006.3133, tolerance: 251736379.41323665\n",
      "  model = cd_fast.enet_coordinate_descent(\n",
      "/opt/conda/lib/python3.8/site-packages/sklearn/linear_model/_coordinate_descent.py:530: ConvergenceWarning: Objective did not converge. You might want to increase the number of iterations. Duality gap: 543363252935.8863, tolerance: 255133023.95530772\n",
      "  model = cd_fast.enet_coordinate_descent(\n",
      "/opt/conda/lib/python3.8/site-packages/sklearn/linear_model/_coordinate_descent.py:530: ConvergenceWarning: Objective did not converge. You might want to increase the number of iterations. Duality gap: 546211067091.1677, tolerance: 254320110.8293673\n",
      "  model = cd_fast.enet_coordinate_descent(\n",
      "/opt/conda/lib/python3.8/site-packages/sklearn/linear_model/_coordinate_descent.py:530: ConvergenceWarning: Objective did not converge. You might want to increase the number of iterations. Duality gap: 535274042283.6364, tolerance: 255133023.95530772\n",
      "  model = cd_fast.enet_coordinate_descent(\n",
      "/opt/conda/lib/python3.8/site-packages/sklearn/linear_model/_coordinate_descent.py:530: ConvergenceWarning: Objective did not converge. You might want to increase the number of iterations. Duality gap: 549585789248.0495, tolerance: 254320110.8293673\n",
      "  model = cd_fast.enet_coordinate_descent(\n",
      "/opt/conda/lib/python3.8/site-packages/sklearn/linear_model/_coordinate_descent.py:530: ConvergenceWarning: Objective did not converge. You might want to increase the number of iterations. Duality gap: 529926366204.8076, tolerance: 251736379.41323665\n",
      "  model = cd_fast.enet_coordinate_descent(\n",
      "/opt/conda/lib/python3.8/site-packages/sklearn/linear_model/_coordinate_descent.py:530: ConvergenceWarning: Objective did not converge. You might want to increase the number of iterations. Duality gap: 555847865098.8792, tolerance: 267654996.36957726\n",
      "  model = cd_fast.enet_coordinate_descent(\n",
      "/opt/conda/lib/python3.8/site-packages/sklearn/linear_model/_coordinate_descent.py:530: ConvergenceWarning: Objective did not converge. You might want to increase the number of iterations. Duality gap: 544967191199.67365, tolerance: 255133023.95530772\n",
      "  model = cd_fast.enet_coordinate_descent(\n",
      "/opt/conda/lib/python3.8/site-packages/sklearn/linear_model/_coordinate_descent.py:530: ConvergenceWarning: Objective did not converge. You might want to increase the number of iterations. Duality gap: 540087829949.00604, tolerance: 257601102.49851072\n",
      "  model = cd_fast.enet_coordinate_descent(\n",
      "/opt/conda/lib/python3.8/site-packages/sklearn/linear_model/_coordinate_descent.py:530: ConvergenceWarning: Objective did not converge. You might want to increase the number of iterations. Duality gap: 544054480969.86725, tolerance: 255133023.95530772\n",
      "  model = cd_fast.enet_coordinate_descent(\n",
      "/opt/conda/lib/python3.8/site-packages/sklearn/linear_model/_coordinate_descent.py:530: ConvergenceWarning: Objective did not converge. You might want to increase the number of iterations. Duality gap: 543074861148.08, tolerance: 255133023.95530772\n",
      "  model = cd_fast.enet_coordinate_descent(\n",
      "/opt/conda/lib/python3.8/site-packages/sklearn/linear_model/_coordinate_descent.py:530: ConvergenceWarning: Objective did not converge. You might want to increase the number of iterations. Duality gap: 541891068024.2325, tolerance: 255133023.95530772\n",
      "  model = cd_fast.enet_coordinate_descent(\n",
      "/opt/conda/lib/python3.8/site-packages/sklearn/linear_model/_coordinate_descent.py:530: ConvergenceWarning: Objective did not converge. You might want to increase the number of iterations. Duality gap: 548236536807.2991, tolerance: 267654996.36957726\n",
      "  model = cd_fast.enet_coordinate_descent(\n",
      "/opt/conda/lib/python3.8/site-packages/sklearn/linear_model/_coordinate_descent.py:530: ConvergenceWarning: Objective did not converge. You might want to increase the number of iterations. Duality gap: 535293514773.2446, tolerance: 255133023.95530772\n",
      "  model = cd_fast.enet_coordinate_descent(\n",
      "/opt/conda/lib/python3.8/site-packages/sklearn/linear_model/_coordinate_descent.py:530: ConvergenceWarning: Objective did not converge. You might want to increase the number of iterations. Duality gap: 531449847065.04016, tolerance: 257601102.49851072\n",
      "  model = cd_fast.enet_coordinate_descent(\n",
      "/opt/conda/lib/python3.8/site-packages/sklearn/linear_model/_coordinate_descent.py:530: ConvergenceWarning: Objective did not converge. You might want to increase the number of iterations. Duality gap: 672200449916.8584, tolerance: 321716712.0875729\n",
      "  model = cd_fast.enet_coordinate_descent(\n"
     ]
    },
    {
     "data": {
      "text/plain": [
       "GridSearchCV(cv=5, estimator=ElasticNet(), n_jobs=1,\n",
       "             param_grid={'alpha': [0.05, 0.2875, 0.525, 0.7625, 1.0],\n",
       "                         'l1_ratio': [0.0, 0.25, 0.5, 0.75, 1.0]},\n",
       "             scoring='neg_root_mean_squared_error', verbose=1)"
      ]
     },
     "execution_count": 85,
     "metadata": {},
     "output_type": "execute_result"
    }
   ],
   "source": [
    "en = ElasticNet()\n",
    "\n",
    "params=dict(alpha=np.linspace(0.05, 1, 5).tolist(), \n",
    "                  l1_ratio=np.linspace(0, 1, 5).tolist())\n",
    "\n",
    "en_cv = GridSearchCV(en, param_grid=params, scoring='neg_root_mean_squared_error', \n",
    "                        cv=5, n_jobs=1, verbose=1)\n",
    "\n",
    "en_cv.fit(X_train.drop(['first_day_exposition', 'last_day_exposition'], axis=1), y_train)"
   ]
  },
  {
   "cell_type": "markdown",
   "metadata": {},
   "source": [
    "#### Examining results"
   ]
  },
  {
   "cell_type": "code",
   "execution_count": 91,
   "metadata": {
    "scrolled": true
   },
   "outputs": [
    {
     "data": {
      "text/html": [
       "<style  type=\"text/css\" >\n",
       "#T_363846ee_b5a4_11ec_a974_ca5431e2feaerow0_col1,#T_363846ee_b5a4_11ec_a974_ca5431e2feaerow1_col1,#T_363846ee_b5a4_11ec_a974_ca5431e2feaerow2_col1,#T_363846ee_b5a4_11ec_a974_ca5431e2feaerow3_col1,#T_363846ee_b5a4_11ec_a974_ca5431e2feaerow4_col1,#T_363846ee_b5a4_11ec_a974_ca5431e2feaerow5_col1,#T_363846ee_b5a4_11ec_a974_ca5431e2feaerow6_col1,#T_363846ee_b5a4_11ec_a974_ca5431e2feaerow7_col1,#T_363846ee_b5a4_11ec_a974_ca5431e2feaerow8_col1,#T_363846ee_b5a4_11ec_a974_ca5431e2feaerow9_col1,#T_363846ee_b5a4_11ec_a974_ca5431e2feaerow10_col1,#T_363846ee_b5a4_11ec_a974_ca5431e2feaerow11_col1,#T_363846ee_b5a4_11ec_a974_ca5431e2feaerow12_col1,#T_363846ee_b5a4_11ec_a974_ca5431e2feaerow13_col1,#T_363846ee_b5a4_11ec_a974_ca5431e2feaerow14_col1,#T_363846ee_b5a4_11ec_a974_ca5431e2feaerow15_col1,#T_363846ee_b5a4_11ec_a974_ca5431e2feaerow16_col1,#T_363846ee_b5a4_11ec_a974_ca5431e2feaerow17_col1,#T_363846ee_b5a4_11ec_a974_ca5431e2feaerow18_col1,#T_363846ee_b5a4_11ec_a974_ca5431e2feaerow19_col1,#T_363846ee_b5a4_11ec_a974_ca5431e2feaerow20_col1,#T_363846ee_b5a4_11ec_a974_ca5431e2feaerow21_col1,#T_363846ee_b5a4_11ec_a974_ca5431e2feaerow22_col1,#T_363846ee_b5a4_11ec_a974_ca5431e2feaerow23_col1,#T_363846ee_b5a4_11ec_a974_ca5431e2feaerow24_col1{\n",
       "            width:  10em;\n",
       "             height:  80%;\n",
       "            background:  linear-gradient(90deg,#d65f5f 100.0%, transparent 100.0%);\n",
       "        }</style><table id=\"T_363846ee_b5a4_11ec_a974_ca5431e2feae\" ><thead>    <tr>        <th class=\"blank level0\" ></th>        <th class=\"col_heading level0 col0\" >params</th>        <th class=\"col_heading level0 col1\" >mean_test_score</th>    </tr></thead><tbody>\n",
       "                <tr>\n",
       "                        <th id=\"T_363846ee_b5a4_11ec_a974_ca5431e2feaelevel0_row0\" class=\"row_heading level0 row0\" >3</th>\n",
       "                        <td id=\"T_363846ee_b5a4_11ec_a974_ca5431e2feaerow0_col0\" class=\"data row0 col0\" >{'alpha': 0.05, 'l1_ratio': 0.75}</td>\n",
       "                        <td id=\"T_363846ee_b5a4_11ec_a974_ca5431e2feaerow0_col1\" class=\"data row0 col1\" >-11100.872267</td>\n",
       "            </tr>\n",
       "            <tr>\n",
       "                        <th id=\"T_363846ee_b5a4_11ec_a974_ca5431e2feaelevel0_row1\" class=\"row_heading level0 row1\" >24</th>\n",
       "                        <td id=\"T_363846ee_b5a4_11ec_a974_ca5431e2feaerow1_col0\" class=\"data row1 col0\" >{'alpha': 1.0, 'l1_ratio': 1.0}</td>\n",
       "                        <td id=\"T_363846ee_b5a4_11ec_a974_ca5431e2feaerow1_col1\" class=\"data row1 col1\" >-11100.893386</td>\n",
       "            </tr>\n",
       "            <tr>\n",
       "                        <th id=\"T_363846ee_b5a4_11ec_a974_ca5431e2feaelevel0_row2\" class=\"row_heading level0 row2\" >19</th>\n",
       "                        <td id=\"T_363846ee_b5a4_11ec_a974_ca5431e2feaerow2_col0\" class=\"data row2 col0\" >{'alpha': 0.7625, 'l1_ratio': 1.0}</td>\n",
       "                        <td id=\"T_363846ee_b5a4_11ec_a974_ca5431e2feaerow2_col1\" class=\"data row2 col1\" >-11100.905847</td>\n",
       "            </tr>\n",
       "            <tr>\n",
       "                        <th id=\"T_363846ee_b5a4_11ec_a974_ca5431e2feaelevel0_row3\" class=\"row_heading level0 row3\" >14</th>\n",
       "                        <td id=\"T_363846ee_b5a4_11ec_a974_ca5431e2feaerow3_col0\" class=\"data row3 col0\" >{'alpha': 0.525, 'l1_ratio': 1.0}</td>\n",
       "                        <td id=\"T_363846ee_b5a4_11ec_a974_ca5431e2feaerow3_col1\" class=\"data row3 col1\" >-11100.918562</td>\n",
       "            </tr>\n",
       "            <tr>\n",
       "                        <th id=\"T_363846ee_b5a4_11ec_a974_ca5431e2feaelevel0_row4\" class=\"row_heading level0 row4\" >9</th>\n",
       "                        <td id=\"T_363846ee_b5a4_11ec_a974_ca5431e2feaerow4_col0\" class=\"data row4 col0\" >{'alpha': 0.2875, 'l1_ratio': 1.0}</td>\n",
       "                        <td id=\"T_363846ee_b5a4_11ec_a974_ca5431e2feaerow4_col1\" class=\"data row4 col1\" >-11100.931532</td>\n",
       "            </tr>\n",
       "            <tr>\n",
       "                        <th id=\"T_363846ee_b5a4_11ec_a974_ca5431e2feaelevel0_row5\" class=\"row_heading level0 row5\" >4</th>\n",
       "                        <td id=\"T_363846ee_b5a4_11ec_a974_ca5431e2feaerow5_col0\" class=\"data row5 col0\" >{'alpha': 0.05, 'l1_ratio': 1.0}</td>\n",
       "                        <td id=\"T_363846ee_b5a4_11ec_a974_ca5431e2feaerow5_col1\" class=\"data row5 col1\" >-11100.944756</td>\n",
       "            </tr>\n",
       "            <tr>\n",
       "                        <th id=\"T_363846ee_b5a4_11ec_a974_ca5431e2feaelevel0_row6\" class=\"row_heading level0 row6\" >2</th>\n",
       "                        <td id=\"T_363846ee_b5a4_11ec_a974_ca5431e2feaerow6_col0\" class=\"data row6 col0\" >{'alpha': 0.05, 'l1_ratio': 0.5}</td>\n",
       "                        <td id=\"T_363846ee_b5a4_11ec_a974_ca5431e2feaerow6_col1\" class=\"data row6 col1\" >-11105.305194</td>\n",
       "            </tr>\n",
       "            <tr>\n",
       "                        <th id=\"T_363846ee_b5a4_11ec_a974_ca5431e2feaelevel0_row7\" class=\"row_heading level0 row7\" >1</th>\n",
       "                        <td id=\"T_363846ee_b5a4_11ec_a974_ca5431e2feaerow7_col0\" class=\"data row7 col0\" >{'alpha': 0.05, 'l1_ratio': 0.25}</td>\n",
       "                        <td id=\"T_363846ee_b5a4_11ec_a974_ca5431e2feaerow7_col1\" class=\"data row7 col1\" >-11109.519401</td>\n",
       "            </tr>\n",
       "            <tr>\n",
       "                        <th id=\"T_363846ee_b5a4_11ec_a974_ca5431e2feaelevel0_row8\" class=\"row_heading level0 row8\" >0</th>\n",
       "                        <td id=\"T_363846ee_b5a4_11ec_a974_ca5431e2feaerow8_col0\" class=\"data row8 col0\" >{'alpha': 0.05, 'l1_ratio': 0.0}</td>\n",
       "                        <td id=\"T_363846ee_b5a4_11ec_a974_ca5431e2feaerow8_col1\" class=\"data row8 col1\" >-11113.009242</td>\n",
       "            </tr>\n",
       "            <tr>\n",
       "                        <th id=\"T_363846ee_b5a4_11ec_a974_ca5431e2feaelevel0_row9\" class=\"row_heading level0 row9\" >8</th>\n",
       "                        <td id=\"T_363846ee_b5a4_11ec_a974_ca5431e2feaerow9_col0\" class=\"data row9 col0\" >{'alpha': 0.2875, 'l1_ratio': 0.75}</td>\n",
       "                        <td id=\"T_363846ee_b5a4_11ec_a974_ca5431e2feaerow9_col1\" class=\"data row9 col1\" >-11117.652141</td>\n",
       "            </tr>\n",
       "            <tr>\n",
       "                        <th id=\"T_363846ee_b5a4_11ec_a974_ca5431e2feaelevel0_row10\" class=\"row_heading level0 row10\" >13</th>\n",
       "                        <td id=\"T_363846ee_b5a4_11ec_a974_ca5431e2feaerow10_col0\" class=\"data row10 col0\" >{'alpha': 0.525, 'l1_ratio': 0.75}</td>\n",
       "                        <td id=\"T_363846ee_b5a4_11ec_a974_ca5431e2feaerow10_col1\" class=\"data row10 col1\" >-11124.798434</td>\n",
       "            </tr>\n",
       "            <tr>\n",
       "                        <th id=\"T_363846ee_b5a4_11ec_a974_ca5431e2feaelevel0_row11\" class=\"row_heading level0 row11\" >7</th>\n",
       "                        <td id=\"T_363846ee_b5a4_11ec_a974_ca5431e2feaerow11_col0\" class=\"data row11 col0\" >{'alpha': 0.2875, 'l1_ratio': 0.5}</td>\n",
       "                        <td id=\"T_363846ee_b5a4_11ec_a974_ca5431e2feaerow11_col1\" class=\"data row11 col1\" >-11125.729943</td>\n",
       "            </tr>\n",
       "            <tr>\n",
       "                        <th id=\"T_363846ee_b5a4_11ec_a974_ca5431e2feaelevel0_row12\" class=\"row_heading level0 row12\" >18</th>\n",
       "                        <td id=\"T_363846ee_b5a4_11ec_a974_ca5431e2feaerow12_col0\" class=\"data row12 col0\" >{'alpha': 0.7625, 'l1_ratio': 0.75}</td>\n",
       "                        <td id=\"T_363846ee_b5a4_11ec_a974_ca5431e2feaerow12_col1\" class=\"data row12 col1\" >-11128.442239</td>\n",
       "            </tr>\n",
       "            <tr>\n",
       "                        <th id=\"T_363846ee_b5a4_11ec_a974_ca5431e2feaelevel0_row13\" class=\"row_heading level0 row13\" >6</th>\n",
       "                        <td id=\"T_363846ee_b5a4_11ec_a974_ca5431e2feaerow13_col0\" class=\"data row13 col0\" >{'alpha': 0.2875, 'l1_ratio': 0.25}</td>\n",
       "                        <td id=\"T_363846ee_b5a4_11ec_a974_ca5431e2feaerow13_col1\" class=\"data row13 col1\" >-11129.457264</td>\n",
       "            </tr>\n",
       "            <tr>\n",
       "                        <th id=\"T_363846ee_b5a4_11ec_a974_ca5431e2feaelevel0_row14\" class=\"row_heading level0 row14\" >23</th>\n",
       "                        <td id=\"T_363846ee_b5a4_11ec_a974_ca5431e2feaerow14_col0\" class=\"data row14 col0\" >{'alpha': 1.0, 'l1_ratio': 0.75}</td>\n",
       "                        <td id=\"T_363846ee_b5a4_11ec_a974_ca5431e2feaerow14_col1\" class=\"data row14 col1\" >-11130.645982</td>\n",
       "            </tr>\n",
       "            <tr>\n",
       "                        <th id=\"T_363846ee_b5a4_11ec_a974_ca5431e2feaelevel0_row15\" class=\"row_heading level0 row15\" >12</th>\n",
       "                        <td id=\"T_363846ee_b5a4_11ec_a974_ca5431e2feaerow15_col0\" class=\"data row15 col0\" >{'alpha': 0.525, 'l1_ratio': 0.5}</td>\n",
       "                        <td id=\"T_363846ee_b5a4_11ec_a974_ca5431e2feaerow15_col1\" class=\"data row15 col1\" >-11130.978788</td>\n",
       "            </tr>\n",
       "            <tr>\n",
       "                        <th id=\"T_363846ee_b5a4_11ec_a974_ca5431e2feaelevel0_row16\" class=\"row_heading level0 row16\" >5</th>\n",
       "                        <td id=\"T_363846ee_b5a4_11ec_a974_ca5431e2feaerow16_col0\" class=\"data row16 col0\" >{'alpha': 0.2875, 'l1_ratio': 0.0}</td>\n",
       "                        <td id=\"T_363846ee_b5a4_11ec_a974_ca5431e2feaerow16_col1\" class=\"data row16 col1\" >-11131.603684</td>\n",
       "            </tr>\n",
       "            <tr>\n",
       "                        <th id=\"T_363846ee_b5a4_11ec_a974_ca5431e2feaelevel0_row17\" class=\"row_heading level0 row17\" >17</th>\n",
       "                        <td id=\"T_363846ee_b5a4_11ec_a974_ca5431e2feaerow17_col0\" class=\"data row17 col0\" >{'alpha': 0.7625, 'l1_ratio': 0.5}</td>\n",
       "                        <td id=\"T_363846ee_b5a4_11ec_a974_ca5431e2feaerow17_col1\" class=\"data row17 col1\" >-11133.372663</td>\n",
       "            </tr>\n",
       "            <tr>\n",
       "                        <th id=\"T_363846ee_b5a4_11ec_a974_ca5431e2feaelevel0_row18\" class=\"row_heading level0 row18\" >11</th>\n",
       "                        <td id=\"T_363846ee_b5a4_11ec_a974_ca5431e2feaerow18_col0\" class=\"data row18 col0\" >{'alpha': 0.525, 'l1_ratio': 0.25}</td>\n",
       "                        <td id=\"T_363846ee_b5a4_11ec_a974_ca5431e2feaerow18_col1\" class=\"data row18 col1\" >-11133.544654</td>\n",
       "            </tr>\n",
       "            <tr>\n",
       "                        <th id=\"T_363846ee_b5a4_11ec_a974_ca5431e2feaelevel0_row19\" class=\"row_heading level0 row19\" >22</th>\n",
       "                        <td id=\"T_363846ee_b5a4_11ec_a974_ca5431e2feaerow19_col0\" class=\"data row19 col0\" >{'alpha': 1.0, 'l1_ratio': 0.5}</td>\n",
       "                        <td id=\"T_363846ee_b5a4_11ec_a974_ca5431e2feaerow19_col1\" class=\"data row19 col1\" >-11134.798557</td>\n",
       "            </tr>\n",
       "            <tr>\n",
       "                        <th id=\"T_363846ee_b5a4_11ec_a974_ca5431e2feaelevel0_row20\" class=\"row_heading level0 row20\" >10</th>\n",
       "                        <td id=\"T_363846ee_b5a4_11ec_a974_ca5431e2feaerow20_col0\" class=\"data row20 col0\" >{'alpha': 0.525, 'l1_ratio': 0.0}</td>\n",
       "                        <td id=\"T_363846ee_b5a4_11ec_a974_ca5431e2feaerow20_col1\" class=\"data row20 col1\" >-11135.019074</td>\n",
       "            </tr>\n",
       "            <tr>\n",
       "                        <th id=\"T_363846ee_b5a4_11ec_a974_ca5431e2feaelevel0_row21\" class=\"row_heading level0 row21\" >16</th>\n",
       "                        <td id=\"T_363846ee_b5a4_11ec_a974_ca5431e2feaerow21_col0\" class=\"data row21 col0\" >{'alpha': 0.7625, 'l1_ratio': 0.25}</td>\n",
       "                        <td id=\"T_363846ee_b5a4_11ec_a974_ca5431e2feaerow21_col1\" class=\"data row21 col1\" >-11135.426438</td>\n",
       "            </tr>\n",
       "            <tr>\n",
       "                        <th id=\"T_363846ee_b5a4_11ec_a974_ca5431e2feaelevel0_row22\" class=\"row_heading level0 row22\" >21</th>\n",
       "                        <td id=\"T_363846ee_b5a4_11ec_a974_ca5431e2feaerow22_col0\" class=\"data row22 col0\" >{'alpha': 1.0, 'l1_ratio': 0.25}</td>\n",
       "                        <td id=\"T_363846ee_b5a4_11ec_a974_ca5431e2feaerow22_col1\" class=\"data row22 col1\" >-11136.644705</td>\n",
       "            </tr>\n",
       "            <tr>\n",
       "                        <th id=\"T_363846ee_b5a4_11ec_a974_ca5431e2feaelevel0_row23\" class=\"row_heading level0 row23\" >15</th>\n",
       "                        <td id=\"T_363846ee_b5a4_11ec_a974_ca5431e2feaerow23_col0\" class=\"data row23 col0\" >{'alpha': 0.7625, 'l1_ratio': 0.0}</td>\n",
       "                        <td id=\"T_363846ee_b5a4_11ec_a974_ca5431e2feaerow23_col1\" class=\"data row23 col1\" >-11136.712067</td>\n",
       "            </tr>\n",
       "            <tr>\n",
       "                        <th id=\"T_363846ee_b5a4_11ec_a974_ca5431e2feaelevel0_row24\" class=\"row_heading level0 row24\" >20</th>\n",
       "                        <td id=\"T_363846ee_b5a4_11ec_a974_ca5431e2feaerow24_col0\" class=\"data row24 col0\" >{'alpha': 1.0, 'l1_ratio': 0.0}</td>\n",
       "                        <td id=\"T_363846ee_b5a4_11ec_a974_ca5431e2feaerow24_col1\" class=\"data row24 col1\" >-11137.955340</td>\n",
       "            </tr>\n",
       "    </tbody></table>"
      ],
      "text/plain": [
       "<pandas.io.formats.style.Styler at 0x7f185c708ca0>"
      ]
     },
     "execution_count": 91,
     "metadata": {},
     "output_type": "execute_result"
    }
   ],
   "source": [
    "pd.DataFrame(en_cv.cv_results_)[['params', 'mean_test_score',\n",
    "                                   ]].sort_values('mean_test_score', ascending=False).style.bar(vmin=0)"
   ]
  },
  {
   "cell_type": "markdown",
   "metadata": {},
   "source": [
    "#### Calculating RMSE for hold-out sample"
   ]
  },
  {
   "cell_type": "code",
   "execution_count": 98,
   "metadata": {},
   "outputs": [
    {
     "data": {
      "text/plain": [
       "10976.61359120051"
      ]
     },
     "execution_count": 98,
     "metadata": {},
     "output_type": "execute_result"
    }
   ],
   "source": [
    "mean_squared_error(y_test, en_cv.predict(X_test.drop(['first_day_exposition', 'last_day_exposition'], axis=1)), squared=False)"
   ]
  },
  {
   "cell_type": "markdown",
   "metadata": {},
   "source": [
    "## Intermediate conclusion"
   ]
  },
  {
   "cell_type": "markdown",
   "metadata": {},
   "source": [
    "Resulting RMSE is huge, so there's still much room for model improvement.\n",
    "\n",
    "We might want to scale our features, introduce transformations, such as Polynomial featyres, etc.\n",
    "\n",
    "So this will be done in the next lab."
   ]
  }
 ],
 "metadata": {
  "kernelspec": {
   "display_name": "Python 3",
   "language": "python",
   "name": "python3"
  },
  "language_info": {
   "codemirror_mode": {
    "name": "ipython",
    "version": 3
   },
   "file_extension": ".py",
   "mimetype": "text/x-python",
   "name": "python",
   "nbconvert_exporter": "python",
   "pygments_lexer": "ipython3",
   "version": "3.8.6"
  }
 },
 "nbformat": 4,
 "nbformat_minor": 2
}
