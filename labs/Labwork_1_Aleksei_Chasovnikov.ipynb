{
 "cells": [
  {
   "cell_type": "markdown",
   "metadata": {},
   "source": [
    "## Lab 4 - Analyzing Real Estate Data in St. Petersburg\n",
    "We have data from Yandex.Realty classified https://realty.yandex.ru containing real estate listings for apartments in St. Petersburg and Leningrad Oblast from 2016 till the middle of August 2018. In this Lab you'll learn how to work with datasets in python using pandas library for data analysis using the provided data. \n",
    "For datasets like this it becomes hard to use Excel because of its size. If you learn how to work with pandas you'll be able to do basic analytical research much faster than in Excel.\n",
    "To execute code IPython notebook click on the Cell and press Shift-Enter.\n",
    "If you don't have any experience with Jupyter notebooks, please look at this tutorial: https://mybinder.org/v2/gh/ipython/ipython-in-depth/master?filepath=binder/Index.ipynb\n",
    "\n",
    "### Main objectives\n",
    "After successful completion of the lab work students will be able to:\n",
    "-\tAnalyze large datasets that don't work well in Excel using IPython notebook and pandas library\n",
    "-   Find outliers and remove them in the datasets\n",
    "-\tCalculate different statistics on data fields\n",
    "\n",
    "\n",
    "### Tasks\n",
    "-\tCalculate median and mean sell and rent prices in St. Petersburg\n",
    "-   Find outliers: too cheap or too expensive apartments which seem to be a wrong data. Remove them from the dataset.\n",
    "-\tFind houses with the most cheapest and most expensive prices per square meter.\n",
    "-   Analyze how many rent offers have the commission and what is the most popular commission\n",
    "\n"
   ]
  },
  {
   "cell_type": "markdown",
   "metadata": {},
   "source": [
    "## Import of Libraries"
   ]
  },
  {
   "cell_type": "code",
   "execution_count": 1,
   "metadata": {},
   "outputs": [],
   "source": [
    "import pandas as pd\n",
    "\n",
    "pd.set_option('display.max_columns', 500)\n",
    "pd.set_option('display.width', 1000)\n",
    "pd.set_option('display.max_colwidth', 1000)"
   ]
  },
  {
   "cell_type": "code",
   "execution_count": 2,
   "metadata": {},
   "outputs": [],
   "source": [
    "import urllib"
   ]
  },
  {
   "cell_type": "code",
   "execution_count": 3,
   "metadata": {},
   "outputs": [],
   "source": [
    "import seaborn as sns"
   ]
  },
  {
   "cell_type": "markdown",
   "metadata": {},
   "source": [
    "## Uploading data to DataFrame"
   ]
  },
  {
   "cell_type": "code",
   "execution_count": 4,
   "metadata": {},
   "outputs": [],
   "source": [
    "spb_df = pd.read_table('data/spb.real.estate.archive.2018.tsv')"
   ]
  },
  {
   "cell_type": "code",
   "execution_count": 5,
   "metadata": {},
   "outputs": [
    {
     "data": {
      "text/html": [
       "<div>\n",
       "<style scoped>\n",
       "    .dataframe tbody tr th:only-of-type {\n",
       "        vertical-align: middle;\n",
       "    }\n",
       "\n",
       "    .dataframe tbody tr th {\n",
       "        vertical-align: top;\n",
       "    }\n",
       "\n",
       "    .dataframe thead th {\n",
       "        text-align: right;\n",
       "    }\n",
       "</style>\n",
       "<table border=\"1\" class=\"dataframe\">\n",
       "  <thead>\n",
       "    <tr style=\"text-align: right;\">\n",
       "      <th></th>\n",
       "      <th>offer_id</th>\n",
       "      <th>first_day_exposition</th>\n",
       "      <th>last_day_exposition</th>\n",
       "      <th>last_price</th>\n",
       "      <th>floor</th>\n",
       "      <th>open_plan</th>\n",
       "      <th>rooms</th>\n",
       "      <th>studio</th>\n",
       "      <th>area</th>\n",
       "      <th>kitchen_area</th>\n",
       "      <th>living_area</th>\n",
       "      <th>agent_fee</th>\n",
       "      <th>renovation</th>\n",
       "      <th>offer_type</th>\n",
       "      <th>category_type</th>\n",
       "      <th>unified_address</th>\n",
       "      <th>building_id</th>\n",
       "    </tr>\n",
       "  </thead>\n",
       "  <tbody>\n",
       "    <tr>\n",
       "      <th>57685</th>\n",
       "      <td>992246099221475840</td>\n",
       "      <td>2016-04-23T00:00:00+03:00</td>\n",
       "      <td>2016-04-26T00:00:00+03:00</td>\n",
       "      <td>24000.0</td>\n",
       "      <td>6</td>\n",
       "      <td>False</td>\n",
       "      <td>2</td>\n",
       "      <td>False</td>\n",
       "      <td>50.0</td>\n",
       "      <td>9.0</td>\n",
       "      <td>32.0</td>\n",
       "      <td>40.0</td>\n",
       "      <td>0.0</td>\n",
       "      <td>2</td>\n",
       "      <td>2</td>\n",
       "      <td>Россия, Санкт-Петербург, Будапештская улица, 72к3</td>\n",
       "      <td>5729094119176702056</td>\n",
       "    </tr>\n",
       "    <tr>\n",
       "      <th>164997</th>\n",
       "      <td>3559911485113345280</td>\n",
       "      <td>2017-05-08T00:00:00+03:00</td>\n",
       "      <td>2018-02-07T00:00:00+03:00</td>\n",
       "      <td>9150000.0</td>\n",
       "      <td>19</td>\n",
       "      <td>False</td>\n",
       "      <td>3</td>\n",
       "      <td>False</td>\n",
       "      <td>90.0</td>\n",
       "      <td>20.0</td>\n",
       "      <td>50.0</td>\n",
       "      <td>NaN</td>\n",
       "      <td>11.0</td>\n",
       "      <td>1</td>\n",
       "      <td>2</td>\n",
       "      <td>Россия, Санкт-Петербург, Кушелевская дорога, 3к10</td>\n",
       "      <td>4155896670242509739</td>\n",
       "    </tr>\n",
       "    <tr>\n",
       "      <th>14229</th>\n",
       "      <td>295733926354241991</td>\n",
       "      <td>2015-09-27T00:00:00+03:00</td>\n",
       "      <td>2016-04-17T00:00:00+03:00</td>\n",
       "      <td>850000.0</td>\n",
       "      <td>3</td>\n",
       "      <td>False</td>\n",
       "      <td>2</td>\n",
       "      <td>False</td>\n",
       "      <td>35.0</td>\n",
       "      <td>5.0</td>\n",
       "      <td>29.0</td>\n",
       "      <td>NaN</td>\n",
       "      <td>0.0</td>\n",
       "      <td>1</td>\n",
       "      <td>2</td>\n",
       "      <td>Россия, Ленинградская область, Волховский район, Новая Ладога, микрорайон В, 14</td>\n",
       "      <td>5804517301947178700</td>\n",
       "    </tr>\n",
       "    <tr>\n",
       "      <th>167366</th>\n",
       "      <td>5602222321868385280</td>\n",
       "      <td>2017-05-16T00:00:00+03:00</td>\n",
       "      <td>2017-05-23T00:00:00+03:00</td>\n",
       "      <td>12000.0</td>\n",
       "      <td>4</td>\n",
       "      <td>False</td>\n",
       "      <td>1</td>\n",
       "      <td>False</td>\n",
       "      <td>33.0</td>\n",
       "      <td>6.0</td>\n",
       "      <td>18.0</td>\n",
       "      <td>50.0</td>\n",
       "      <td>3.0</td>\n",
       "      <td>2</td>\n",
       "      <td>2</td>\n",
       "      <td>Россия, Ленинградская область, Тосненский район, поселок городского типа Красный Бор, Комсомольская улица, 27к1</td>\n",
       "      <td>6284914938438152366</td>\n",
       "    </tr>\n",
       "    <tr>\n",
       "      <th>9507</th>\n",
       "      <td>2418616954678678074</td>\n",
       "      <td>2015-07-07T00:00:00+03:00</td>\n",
       "      <td>2016-09-05T00:00:00+03:00</td>\n",
       "      <td>3100000.0</td>\n",
       "      <td>2</td>\n",
       "      <td>False</td>\n",
       "      <td>1</td>\n",
       "      <td>False</td>\n",
       "      <td>35.0</td>\n",
       "      <td>9.0</td>\n",
       "      <td>17.0</td>\n",
       "      <td>NaN</td>\n",
       "      <td>0.0</td>\n",
       "      <td>1</td>\n",
       "      <td>2</td>\n",
       "      <td>Россия, Санкт-Петербург, улица Десантников, 28</td>\n",
       "      <td>8725894282370683858</td>\n",
       "    </tr>\n",
       "  </tbody>\n",
       "</table>\n",
       "</div>"
      ],
      "text/plain": [
       "                   offer_id       first_day_exposition        last_day_exposition  last_price  floor  open_plan  rooms  studio  area  kitchen_area  living_area  agent_fee  renovation  offer_type  category_type                                                                                                  unified_address          building_id\n",
       "57685    992246099221475840  2016-04-23T00:00:00+03:00  2016-04-26T00:00:00+03:00     24000.0      6      False      2   False  50.0           9.0         32.0       40.0         0.0           2              2                                                                Россия, Санкт-Петербург, Будапештская улица, 72к3  5729094119176702056\n",
       "164997  3559911485113345280  2017-05-08T00:00:00+03:00  2018-02-07T00:00:00+03:00   9150000.0     19      False      3   False  90.0          20.0         50.0        NaN        11.0           1              2                                                                Россия, Санкт-Петербург, Кушелевская дорога, 3к10  4155896670242509739\n",
       "14229    295733926354241991  2015-09-27T00:00:00+03:00  2016-04-17T00:00:00+03:00    850000.0      3      False      2   False  35.0           5.0         29.0        NaN         0.0           1              2                                  Россия, Ленинградская область, Волховский район, Новая Ладога, микрорайон В, 14  5804517301947178700\n",
       "167366  5602222321868385280  2017-05-16T00:00:00+03:00  2017-05-23T00:00:00+03:00     12000.0      4      False      1   False  33.0           6.0         18.0       50.0         3.0           2              2  Россия, Ленинградская область, Тосненский район, поселок городского типа Красный Бор, Комсомольская улица, 27к1  6284914938438152366\n",
       "9507    2418616954678678074  2015-07-07T00:00:00+03:00  2016-09-05T00:00:00+03:00   3100000.0      2      False      1   False  35.0           9.0         17.0        NaN         0.0           1              2                                                                   Россия, Санкт-Петербург, улица Десантников, 28  8725894282370683858"
      ]
     },
     "execution_count": 5,
     "metadata": {},
     "output_type": "execute_result"
    }
   ],
   "source": [
    "spb_df.sample(5)"
   ]
  },
  {
   "cell_type": "markdown",
   "metadata": {},
   "source": [
    "## Split data into Rent and Sell offers"
   ]
  },
  {
   "cell_type": "code",
   "execution_count": 6,
   "metadata": {},
   "outputs": [],
   "source": [
    "rent_df = spb_df[spb_df.offer_type == 2]\n",
    "sell_df = spb_df[spb_df.offer_type == 1]"
   ]
  },
  {
   "cell_type": "markdown",
   "metadata": {},
   "source": [
    "## Recreating rent dataframe cleaned from outliers, with only SPb offers left"
   ]
  },
  {
   "cell_type": "code",
   "execution_count": 7,
   "metadata": {},
   "outputs": [
    {
     "name": "stderr",
     "output_type": "stream",
     "text": [
      "<ipython-input-7-ac63d4e6f533>:2: SettingWithCopyWarning: \n",
      "A value is trying to be set on a copy of a slice from a DataFrame.\n",
      "Try using .loc[row_indexer,col_indexer] = value instead\n",
      "\n",
      "See the caveats in the documentation: https://pandas.pydata.org/pandas-docs/stable/user_guide/indexing.html#returning-a-view-versus-a-copy\n",
      "  rent_df['price_per_sq_m'] = rent_df.last_price/rent_df.area\n"
     ]
    }
   ],
   "source": [
    "# Creating new column with price per square meter for each offer\n",
    "rent_df['price_per_sq_m'] = rent_df.last_price/rent_df.area\n",
    "\n",
    "# Creating new dataframe with median price per square meter for each house\n",
    "house_rent_df = rent_df.groupby('unified_address').price_per_sq_m.median().reset_index()\n",
    "house_rent_df.rename(columns = {'price_per_sq_m': 'house_price_sqm_median'}, inplace = True)\n",
    "\n",
    "# Adding house median price per sq meter into main dataframe\n",
    "rent_df = rent_df.merge(house_rent_df)\n",
    "\n",
    "# Cleaning from expensive outliers\n",
    "rent_df_cleaned = rent_df[~((rent_df.price_per_sq_m/rent_df.house_price_sqm_median) > 5)]\n",
    "rent_df_cleaned = rent_df_cleaned[rent_df_cleaned.last_price < 1000000]\n",
    "rent_df_cleaned = rent_df_cleaned[~((rent_df_cleaned.price_per_sq_m > 3000) \n",
    "                                    & ((rent_df_cleaned.house_price_sqm_median < 1000) \n",
    "                                       | (rent_df_cleaned.house_price_sqm_median == rent_df_cleaned.price_per_sq_m)))]\n",
    "\n",
    "#Leaving only Saint-Petersburg apartments\n",
    "rent_df_cleaned = rent_df_cleaned[rent_df_cleaned.unified_address.str.contains('Россия, Санкт-Петербург')]\n",
    "\n",
    "# Cleaning from cheap outliers\n",
    "rent_df_cleaned = rent_df_cleaned[~((rent_df_cleaned.price_per_sq_m < 250) \n",
    "                               & (rent_df_cleaned.house_price_sqm_median/rent_df_cleaned.price_per_sq_m >= 2))]\n",
    "rent_df_cleaned = rent_df_cleaned[~((rent_df_cleaned.price_per_sq_m < 200) \n",
    "                                          & (rent_df_cleaned.price_per_sq_m == rent_df_cleaned.house_price_sqm_median))]"
   ]
  },
  {
   "cell_type": "markdown",
   "metadata": {},
   "source": [
    "### Self-control stops\n",
    "1. Calculate median and mean prices for apartments for rent after cleaning the data in St.Petersburg without Leningrad Oblast. Which of the statistics changed more and why?\n",
    "2. Calculate median and mean prices for apartments for sell before cleaning the data.\n",
    "2. Find houses with the most cheapest and most expensive price per sq m in St. Petersburg without Leningrad Oblast after cleaning outliers.\n",
    "3. Find the most expensive and the most cheapest apartment in St. Petersburg after cleaning outliers.\n",
    "4. Calculate how many years does it take to cover all money spent on buying apartment by renting it. Find houses in which it's the most effective to invest in buying if you plan to rent and houses in which it will be the most ineffective."
   ]
  },
  {
   "cell_type": "markdown",
   "metadata": {},
   "source": [
    "## 1. Calculate median and mean prices for apartments for rent after cleaning the data in St.Petersburg without Leningrad Oblast. Which of the statistics changed more and why?"
   ]
  },
  {
   "cell_type": "code",
   "execution_count": 8,
   "metadata": {},
   "outputs": [
    {
     "name": "stdout",
     "output_type": "stream",
     "text": [
      "Rent median price before cleaning St.Petersburg: 25000.0\n",
      "Rent mean price before cleaning St.Petersburg: 31719.26\n"
     ]
    }
   ],
   "source": [
    "median_rent_price_before_cleaning = rent_df.last_price.median()\n",
    "mean_rent_price_before_cleaning = rent_df.last_price.mean()\n",
    "\n",
    "print(\"Rent median price before cleaning St.Petersburg: {}\".format(median_rent_price_before_cleaning))\n",
    "print(\"Rent mean price before cleaning St.Petersburg: {}\".format(round(mean_rent_price_before_cleaning, 2)))"
   ]
  },
  {
   "cell_type": "code",
   "execution_count": 9,
   "metadata": {
    "scrolled": false
   },
   "outputs": [
    {
     "name": "stdout",
     "output_type": "stream",
     "text": [
      "Rent median price after cleaning St.Petersburg and from outliers: 25000.0\n",
      "Rent mean price after cleaning St.Petersburg and from outliers: 32605.09\n"
     ]
    }
   ],
   "source": [
    "median_rent_price_after_cleaning = rent_df_cleaned[rent_df_cleaned.unified_address.str.contains('Россия, Санкт-Петербург')].last_price.median()\n",
    "mean_rent_price_after_cleaning = rent_df_cleaned[rent_df_cleaned.unified_address.str.contains('Россия, Санкт-Петербург')].last_price.mean()\n",
    "\n",
    "print(\"Rent median price after cleaning St.Petersburg and from outliers: {}\".format(median_rent_price_after_cleaning))\n",
    "print(\"Rent mean price after cleaning St.Petersburg and from outliers: {}\".format(round(mean_rent_price_after_cleaning, 2)))"
   ]
  },
  {
   "cell_type": "markdown",
   "metadata": {},
   "source": [
    "Median statistic remained unchanged, mean statistic changed because by design mean statistic is more sensitive to outliers, thus cleaning data from outliers coused the change in it."
   ]
  },
  {
   "cell_type": "markdown",
   "metadata": {},
   "source": [
    "## 2. Calculate median and mean prices for apartments for sell before cleaning the data."
   ]
  },
  {
   "cell_type": "code",
   "execution_count": 10,
   "metadata": {
    "scrolled": true
   },
   "outputs": [
    {
     "name": "stdout",
     "output_type": "stream",
     "text": [
      "Sell median price before cleaning: 4599000.0\n",
      "Sell mean price before cleaning: 6969288.15\n"
     ]
    }
   ],
   "source": [
    "median_sell_price_before_cleaning = sell_df.last_price.median()\n",
    "mean_sell_price_before_cleaning = sell_df.last_price.mean()\n",
    "\n",
    "print(\"Sell median price before cleaning: {}\".format(median_sell_price_before_cleaning))\n",
    "print(\"Sell mean price before cleaning: {}\".format(round(mean_sell_price_before_cleaning, 2)))"
   ]
  },
  {
   "cell_type": "markdown",
   "metadata": {},
   "source": [
    "## 3. Find houses with the most cheapest and most expensive price per sq m in St. Petersburg without Leningrad Oblast after cleaning outliers."
   ]
  },
  {
   "cell_type": "markdown",
   "metadata": {},
   "source": [
    "First let's calculate price per square meter for each apartment and median price per square meter for each house"
   ]
  },
  {
   "cell_type": "code",
   "execution_count": 11,
   "metadata": {
    "scrolled": true
   },
   "outputs": [
    {
     "name": "stderr",
     "output_type": "stream",
     "text": [
      "<ipython-input-11-ea7b5b7c5361>:2: SettingWithCopyWarning: \n",
      "A value is trying to be set on a copy of a slice from a DataFrame.\n",
      "Try using .loc[row_indexer,col_indexer] = value instead\n",
      "\n",
      "See the caveats in the documentation: https://pandas.pydata.org/pandas-docs/stable/user_guide/indexing.html#returning-a-view-versus-a-copy\n",
      "  sell_df['price_per_sq_m'] = sell_df.last_price/sell_df.area\n"
     ]
    },
    {
     "name": "stdout",
     "output_type": "stream",
     "text": [
      "Sell median price before cleaning: 4599000.0\n",
      "Sell median price per sqm before cleaning: 95214.28571428571\n"
     ]
    }
   ],
   "source": [
    "# Creating new column with price per square meter for each offer\n",
    "sell_df['price_per_sq_m'] = sell_df.last_price/sell_df.area\n",
    "\n",
    "# Creating new dataframe with median price per square meter for each house\n",
    "house_sell_df = sell_df.groupby('unified_address').price_per_sq_m.median().reset_index()\n",
    "house_sell_df.rename(columns = {'price_per_sq_m': 'house_price_sqm_median'}, inplace = True)\n",
    "\n",
    "# Let's see medians for apartment sell price and price per sqm to understand what constitutes an outlier\n",
    "print(\"Sell median price before cleaning: {}\".format(sell_df.last_price.median()))\n",
    "print(\"Sell median price per sqm before cleaning: {}\".format(sell_df.price_per_sq_m.median()))"
   ]
  },
  {
   "cell_type": "code",
   "execution_count": 12,
   "metadata": {
    "scrolled": true
   },
   "outputs": [
    {
     "data": {
      "text/plain": [
       "<AxesSubplot:xlabel='last_price'>"
      ]
     },
     "execution_count": 12,
     "metadata": {},
     "output_type": "execute_result"
    },
    {
     "data": {
      "image/png": "[encoded data removed]",
      "text/plain": [
       "<Figure size 432x288 with 1 Axes>"
      ]
     },
     "metadata": {
      "needs_background": "light"
     },
     "output_type": "display_data"
    }
   ],
   "source": [
    "# Let's build a box plot for sell price to notice outliers visually\n",
    "\n",
    "sns.boxplot(x=sell_df.last_price)"
   ]
  },
  {
   "cell_type": "code",
   "execution_count": 13,
   "metadata": {
    "scrolled": true
   },
   "outputs": [
    {
     "data": {
      "text/plain": [
       "<AxesSubplot:xlabel='price_per_sq_m'>"
      ]
     },
     "execution_count": 13,
     "metadata": {},
     "output_type": "execute_result"
    },
    {
     "data": {
      "image/png": "[encoded data removed]",
      "text/plain": [
       "<Figure size 432x288 with 1 Axes>"
      ]
     },
     "metadata": {
      "needs_background": "light"
     },
     "output_type": "display_data"
    }
   ],
   "source": [
    "# Let's build a box plot for sell price to notice outliers visually\n",
    "\n",
    "sns.boxplot(x=sell_df.price_per_sq_m)"
   ]
  },
  {
   "cell_type": "code",
   "execution_count": 14,
   "metadata": {},
   "outputs": [],
   "source": [
    "# Adding house median price per sq meter into main dataframe\n",
    "sell_df = sell_df.merge(house_sell_df)\n",
    "\n",
    "# Cleaning from expensive outliers:\n",
    "# Those offers where price per sqm is 5 times or more expensive than median price per sqm per house\n",
    "sell_df_cleaned = sell_df[~((sell_df.price_per_sq_m/sell_df.house_price_sqm_median) > 5)]\n",
    "# From boxplot for last_price - visually noticed outliers - those with price over 550 mln rubles \n",
    "sell_df_cleaned = sell_df_cleaned[sell_df_cleaned.last_price < 5500000000]\n",
    "# From boxplot for price_per_sqm - visually noticed outliers - those with price per sqm much over 2.5 mln rubles \n",
    "sell_df_cleaned = sell_df_cleaned[sell_df_cleaned.price_per_sq_m < 2500000]\n",
    "# Those offers where price per sqm is significantly higher than median for house,\n",
    "# or is high and simultaneously is the only price for house (= equal to house median)\n",
    "sell_df_cleaned = sell_df_cleaned[~((sell_df_cleaned.price_per_sq_m > 500000) \n",
    "                                    & ((sell_df_cleaned.house_price_sqm_median < 200000) \n",
    "                                       | (sell_df_cleaned.house_price_sqm_median == sell_df_cleaned.price_per_sq_m)))]\n",
    "\n",
    "#Leaving only Saint-Petersburg apartments\n",
    "sell_df_cleaned = sell_df_cleaned[sell_df_cleaned.unified_address.str.contains('Россия, Санкт-Петербург')]\n",
    "\n",
    "# Cleaning from cheap outliers\n",
    "# Those offers where price per sqm is around 4 times or more cheaper than median price per sqm per house \n",
    "# - so less than 25K\n",
    "sell_df_cleaned = sell_df_cleaned[sell_df_cleaned.price_per_sq_m > 25000]\n",
    "# Those offers where price per sqm is low AND is significantly (twice or more times) lower than median for house\n",
    "sell_df_cleaned = sell_df_cleaned[~((sell_df_cleaned.price_per_sq_m < 45000) \n",
    "                               & (sell_df_cleaned.house_price_sqm_median/sell_df_cleaned.price_per_sq_m >= 2))]\n",
    "# Those offers where price per sqm is low and simultaneously is the only price for house (= equal to house median)\n",
    "sell_df_cleaned = sell_df_cleaned[~((sell_df_cleaned.price_per_sq_m < 45000) \n",
    "                                          & (sell_df_cleaned.price_per_sq_m == sell_df_cleaned.house_price_sqm_median))]"
   ]
  },
  {
   "cell_type": "markdown",
   "metadata": {},
   "source": [
    "### Recalculating houses price medians on the cleaned data and finding the cheapest and most expensive houses in Saint-Petersburg"
   ]
  },
  {
   "cell_type": "markdown",
   "metadata": {},
   "source": [
    "Through groupby creating a dataframe with median sell price for each house on CLEANED data:"
   ]
  },
  {
   "cell_type": "code",
   "execution_count": 15,
   "metadata": {},
   "outputs": [],
   "source": [
    "house_sell_df_cleaned = sell_df_cleaned.groupby('unified_address').price_per_sq_m.median().reset_index()\n",
    "house_sell_df_cleaned.rename(columns = {'price_per_sq_m': 'house_sell_price_sqm_median_cleaned'}, inplace = True)"
   ]
  },
  {
   "cell_type": "markdown",
   "metadata": {},
   "source": [
    "#### Cheapest house:"
   ]
  },
  {
   "cell_type": "code",
   "execution_count": 16,
   "metadata": {
    "scrolled": true
   },
   "outputs": [
    {
     "data": {
      "text/html": [
       "<div>\n",
       "<style scoped>\n",
       "    .dataframe tbody tr th:only-of-type {\n",
       "        vertical-align: middle;\n",
       "    }\n",
       "\n",
       "    .dataframe tbody tr th {\n",
       "        vertical-align: top;\n",
       "    }\n",
       "\n",
       "    .dataframe thead th {\n",
       "        text-align: right;\n",
       "    }\n",
       "</style>\n",
       "<table border=\"1\" class=\"dataframe\">\n",
       "  <thead>\n",
       "    <tr style=\"text-align: right;\">\n",
       "      <th></th>\n",
       "      <th>unified_address</th>\n",
       "      <th>house_sell_price_sqm_median_cleaned</th>\n",
       "    </tr>\n",
       "  </thead>\n",
       "  <tbody>\n",
       "    <tr>\n",
       "      <th>7647</th>\n",
       "      <td>Россия, Санкт-Петербург, Ломоносов, Дворцовый проспект, 16А</td>\n",
       "      <td>35740.786853</td>\n",
       "    </tr>\n",
       "  </tbody>\n",
       "</table>\n",
       "</div>"
      ],
      "text/plain": [
       "                                                  unified_address  house_sell_price_sqm_median_cleaned\n",
       "7647  Россия, Санкт-Петербург, Ломоносов, Дворцовый проспект, 16А                         35740.786853"
      ]
     },
     "execution_count": 16,
     "metadata": {},
     "output_type": "execute_result"
    }
   ],
   "source": [
    "cheapest_house = house_sell_df_cleaned[house_sell_df_cleaned.house_sell_price_sqm_median_cleaned == house_sell_df_cleaned.house_sell_price_sqm_median_cleaned.min()]\n",
    "cheapest_house"
   ]
  },
  {
   "cell_type": "code",
   "execution_count": 17,
   "metadata": {},
   "outputs": [
    {
     "name": "stdout",
     "output_type": "stream",
     "text": [
      "https://realty.yandex.ru/otsenka-kvartiry-po-adresu-onlayn/%D0%A0%D0%BE%D1%81%D1%81%D0%B8%D1%8F%2C%20%D0%A1%D0%B0%D0%BD%D0%BA%D1%82-%D0%9F%D0%B5%D1%82%D0%B5%D1%80%D0%B1%D1%83%D1%80%D0%B3%2C%20%D0%9B%D0%BE%D0%BC%D0%BE%D0%BD%D0%BE%D1%81%D0%BE%D0%B2%2C%20%D0%94%D0%B2%D0%BE%D1%80%D1%86%D0%BE%D0%B2%D1%8B%D0%B9%20%D0%BF%D1%80%D0%BE%D1%81%D0%BF%D0%B5%D0%BA%D1%82%2C%2016%D0%90/snyat/kvartira/\n"
     ]
    }
   ],
   "source": [
    "print(\"https://realty.yandex.ru/otsenka-kvartiry-po-adresu-onlayn/{}/snyat/kvartira/\".format(urllib.parse.quote(cheapest_house.unified_address.iloc[0])))"
   ]
  },
  {
   "cell_type": "markdown",
   "metadata": {},
   "source": [
    "<b>Sanity check:</b>"
   ]
  },
  {
   "cell_type": "markdown",
   "metadata": {},
   "source": [
    "From common sense, the prices in Lomonosov (where this cheapest house is located) can be this low, since it's a remote district VERY far from the city center. Let's look at our data from Lomonosov just in case, to get a general idea of a price range there."
   ]
  },
  {
   "cell_type": "code",
   "execution_count": 18,
   "metadata": {
    "scrolled": true
   },
   "outputs": [
    {
     "data": {
      "text/html": [
       "<div>\n",
       "<style scoped>\n",
       "    .dataframe tbody tr th:only-of-type {\n",
       "        vertical-align: middle;\n",
       "    }\n",
       "\n",
       "    .dataframe tbody tr th {\n",
       "        vertical-align: top;\n",
       "    }\n",
       "\n",
       "    .dataframe thead th {\n",
       "        text-align: right;\n",
       "    }\n",
       "</style>\n",
       "<table border=\"1\" class=\"dataframe\">\n",
       "  <thead>\n",
       "    <tr style=\"text-align: right;\">\n",
       "      <th></th>\n",
       "      <th>unified_address</th>\n",
       "      <th>house_sell_price_sqm_median_cleaned</th>\n",
       "    </tr>\n",
       "  </thead>\n",
       "  <tbody>\n",
       "    <tr>\n",
       "      <th>7647</th>\n",
       "      <td>Россия, Санкт-Петербург, Ломоносов, Дворцовый проспект, 16А</td>\n",
       "      <td>35740.786853</td>\n",
       "    </tr>\n",
       "    <tr>\n",
       "      <th>7737</th>\n",
       "      <td>Россия, Санкт-Петербург, Ломоносов, улица Костылева, 14</td>\n",
       "      <td>47619.047619</td>\n",
       "    </tr>\n",
       "    <tr>\n",
       "      <th>7758</th>\n",
       "      <td>Россия, Санкт-Петербург, Ломоносов, улица Ломоносова, 12</td>\n",
       "      <td>48863.636364</td>\n",
       "    </tr>\n",
       "    <tr>\n",
       "      <th>7646</th>\n",
       "      <td>Россия, Санкт-Петербург, Ломоносов, Дворцовый проспект, 16</td>\n",
       "      <td>49166.666667</td>\n",
       "    </tr>\n",
       "    <tr>\n",
       "      <th>7754</th>\n",
       "      <td>Россия, Санкт-Петербург, Ломоносов, улица Красного Флота, 6к1</td>\n",
       "      <td>52485.659656</td>\n",
       "    </tr>\n",
       "    <tr>\n",
       "      <th>...</th>\n",
       "      <td>...</td>\n",
       "      <td>...</td>\n",
       "    </tr>\n",
       "    <tr>\n",
       "      <th>7688</th>\n",
       "      <td>Россия, Санкт-Петербург, Ломоносов, Морская улица, 15</td>\n",
       "      <td>120192.307692</td>\n",
       "    </tr>\n",
       "    <tr>\n",
       "      <th>14360</th>\n",
       "      <td>Россия, Санкт-Петербург, Центральный район, улица Ломоносова, 24</td>\n",
       "      <td>122340.136054</td>\n",
       "    </tr>\n",
       "    <tr>\n",
       "      <th>14352</th>\n",
       "      <td>Россия, Санкт-Петербург, Центральный район, улица Ломоносова, 11-13</td>\n",
       "      <td>125431.380787</td>\n",
       "    </tr>\n",
       "    <tr>\n",
       "      <th>7783</th>\n",
       "      <td>Россия, Санкт-Петербург, Ломоносов, улица Победы, 7</td>\n",
       "      <td>130813.953488</td>\n",
       "    </tr>\n",
       "    <tr>\n",
       "      <th>7781</th>\n",
       "      <td>Россия, Санкт-Петербург, Ломоносов, улица Победы, 5</td>\n",
       "      <td>280844.961240</td>\n",
       "    </tr>\n",
       "  </tbody>\n",
       "</table>\n",
       "<p>221 rows × 2 columns</p>\n",
       "</div>"
      ],
      "text/plain": [
       "                                                           unified_address  house_sell_price_sqm_median_cleaned\n",
       "7647           Россия, Санкт-Петербург, Ломоносов, Дворцовый проспект, 16А                         35740.786853\n",
       "7737               Россия, Санкт-Петербург, Ломоносов, улица Костылева, 14                         47619.047619\n",
       "7758              Россия, Санкт-Петербург, Ломоносов, улица Ломоносова, 12                         48863.636364\n",
       "7646            Россия, Санкт-Петербург, Ломоносов, Дворцовый проспект, 16                         49166.666667\n",
       "7754         Россия, Санкт-Петербург, Ломоносов, улица Красного Флота, 6к1                         52485.659656\n",
       "...                                                                    ...                                  ...\n",
       "7688                 Россия, Санкт-Петербург, Ломоносов, Морская улица, 15                        120192.307692\n",
       "14360     Россия, Санкт-Петербург, Центральный район, улица Ломоносова, 24                        122340.136054\n",
       "14352  Россия, Санкт-Петербург, Центральный район, улица Ломоносова, 11-13                        125431.380787\n",
       "7783                   Россия, Санкт-Петербург, Ломоносов, улица Победы, 7                        130813.953488\n",
       "7781                   Россия, Санкт-Петербург, Ломоносов, улица Победы, 5                        280844.961240\n",
       "\n",
       "[221 rows x 2 columns]"
      ]
     },
     "execution_count": 18,
     "metadata": {},
     "output_type": "execute_result"
    }
   ],
   "source": [
    "# Let's look at Lomonosov offers\n",
    "house_sell_df_cleaned[house_sell_df_cleaned.unified_address.str.contains('Ломоносов')].sort_values('house_sell_price_sqm_median_cleaned')"
   ]
  },
  {
   "cell_type": "markdown",
   "metadata": {},
   "source": [
    "So our cheapest house is in fact the cheapest in Lomonosov, but not by a large margin: it's not that far in price per sqm from other Lomonosov offers, from which we can conclude it was a regular, sane offer. Possibly its rather, but not overly low price is explained by the state of the house itself, lack of renovation of both house and apartment and other factors\n",
    "\n",
    "Thus we'll leave it as is."
   ]
  },
  {
   "cell_type": "markdown",
   "metadata": {},
   "source": [
    "#### Most expensive house:"
   ]
  },
  {
   "cell_type": "code",
   "execution_count": 19,
   "metadata": {
    "scrolled": true
   },
   "outputs": [
    {
     "data": {
      "text/html": [
       "<div>\n",
       "<style scoped>\n",
       "    .dataframe tbody tr th:only-of-type {\n",
       "        vertical-align: middle;\n",
       "    }\n",
       "\n",
       "    .dataframe tbody tr th {\n",
       "        vertical-align: top;\n",
       "    }\n",
       "\n",
       "    .dataframe thead th {\n",
       "        text-align: right;\n",
       "    }\n",
       "</style>\n",
       "<table border=\"1\" class=\"dataframe\">\n",
       "  <thead>\n",
       "    <tr style=\"text-align: right;\">\n",
       "      <th></th>\n",
       "      <th>unified_address</th>\n",
       "      <th>house_sell_price_sqm_median_cleaned</th>\n",
       "    </tr>\n",
       "  </thead>\n",
       "  <tbody>\n",
       "    <tr>\n",
       "      <th>12696</th>\n",
       "      <td>Россия, Санкт-Петербург, Санаторная аллея, 3</td>\n",
       "      <td>818152.92298</td>\n",
       "    </tr>\n",
       "  </tbody>\n",
       "</table>\n",
       "</div>"
      ],
      "text/plain": [
       "                                    unified_address  house_sell_price_sqm_median_cleaned\n",
       "12696  Россия, Санкт-Петербург, Санаторная аллея, 3                         818152.92298"
      ]
     },
     "execution_count": 19,
     "metadata": {},
     "output_type": "execute_result"
    }
   ],
   "source": [
    "most_expensive_house = house_sell_df_cleaned[house_sell_df_cleaned.house_sell_price_sqm_median_cleaned == house_sell_df_cleaned.house_sell_price_sqm_median_cleaned.max()]\n",
    "most_expensive_house"
   ]
  },
  {
   "cell_type": "code",
   "execution_count": 20,
   "metadata": {},
   "outputs": [
    {
     "name": "stdout",
     "output_type": "stream",
     "text": [
      "https://realty.yandex.ru/otsenka-kvartiry-po-adresu-onlayn/%D0%A0%D0%BE%D1%81%D1%81%D0%B8%D1%8F%2C%20%D0%A1%D0%B0%D0%BD%D0%BA%D1%82-%D0%9F%D0%B5%D1%82%D0%B5%D1%80%D0%B1%D1%83%D1%80%D0%B3%2C%20%D0%A1%D0%B0%D0%BD%D0%B0%D1%82%D0%BE%D1%80%D0%BD%D0%B0%D1%8F%20%D0%B0%D0%BB%D0%BB%D0%B5%D1%8F%2C%203/snyat/kvartira/\n"
     ]
    }
   ],
   "source": [
    "print(\"https://realty.yandex.ru/otsenka-kvartiry-po-adresu-onlayn/{}/snyat/kvartira/\".format(urllib.parse.quote(most_expensive_house.unified_address.iloc[0])))"
   ]
  },
  {
   "cell_type": "markdown",
   "metadata": {},
   "source": [
    "<b>Sanity check:</b> this maximum price seems reasonable and fair, since after checking the address on the map, the house is located on Kammenny ostrov in an elite/luxury district very close to the center of the city, so this does not seem to be an outlier."
   ]
  },
  {
   "cell_type": "markdown",
   "metadata": {},
   "source": [
    "### Checking resulting cleaned data with box plots"
   ]
  },
  {
   "cell_type": "code",
   "execution_count": 21,
   "metadata": {
    "scrolled": true
   },
   "outputs": [
    {
     "data": {
      "text/plain": [
       "<AxesSubplot:xlabel='last_price'>"
      ]
     },
     "execution_count": 21,
     "metadata": {},
     "output_type": "execute_result"
    },
    {
     "data": {
      "image/png": "[encoded data removed]",
      "text/plain": [
       "<Figure size 432x288 with 1 Axes>"
      ]
     },
     "metadata": {
      "needs_background": "light"
     },
     "output_type": "display_data"
    }
   ],
   "source": [
    "# Let's build a box plot for sell price to notice outliers visually\n",
    "\n",
    "sns.boxplot(x=sell_df_cleaned.last_price)"
   ]
  },
  {
   "cell_type": "code",
   "execution_count": 22,
   "metadata": {
    "scrolled": false
   },
   "outputs": [
    {
     "data": {
      "text/plain": [
       "<AxesSubplot:xlabel='price_per_sq_m'>"
      ]
     },
     "execution_count": 22,
     "metadata": {},
     "output_type": "execute_result"
    },
    {
     "data": {
      "image/png": "[encoded data removed]",
      "text/plain": [
       "<Figure size 432x288 with 1 Axes>"
      ]
     },
     "metadata": {
      "needs_background": "light"
     },
     "output_type": "display_data"
    }
   ],
   "source": [
    "# Let's build a box plot for sell price to notice outliers visually\n",
    "\n",
    "sns.boxplot(x=sell_df_cleaned.price_per_sq_m)"
   ]
  },
  {
   "cell_type": "markdown",
   "metadata": {},
   "source": [
    "<b>Conclusion</b>: the situation after cleaning outliers looks better. We've gotten rid of offers looking most strange, suspicious and doubtful. Those offers with seemingly overly low and high prices are actually special cases where those prices are not due to mistakes or errors and can be reasonably explained by the nature of the offer: characteristics of apartments and houses such as house location (elite, central districts or, conversly, lower-class, remote from the center), apartment renovation (can be seen in photos for particular offers, for example cheapest and most expensive ones - links are provided above), and other characteristics.\n",
    "\n",
    "Thus we conclude the sell dataset was cleaned from outliers."
   ]
  },
  {
   "cell_type": "markdown",
   "metadata": {},
   "source": [
    "## 4. Find the most expensive and the most cheapest apartment in St. Petersburg after cleaning outliers."
   ]
  },
  {
   "cell_type": "markdown",
   "metadata": {},
   "source": [
    "#### Cheapest apartment:"
   ]
  },
  {
   "cell_type": "code",
   "execution_count": 23,
   "metadata": {
    "scrolled": true
   },
   "outputs": [
    {
     "data": {
      "text/html": [
       "<div>\n",
       "<style scoped>\n",
       "    .dataframe tbody tr th:only-of-type {\n",
       "        vertical-align: middle;\n",
       "    }\n",
       "\n",
       "    .dataframe tbody tr th {\n",
       "        vertical-align: top;\n",
       "    }\n",
       "\n",
       "    .dataframe thead th {\n",
       "        text-align: right;\n",
       "    }\n",
       "</style>\n",
       "<table border=\"1\" class=\"dataframe\">\n",
       "  <thead>\n",
       "    <tr style=\"text-align: right;\">\n",
       "      <th></th>\n",
       "      <th>offer_id</th>\n",
       "      <th>first_day_exposition</th>\n",
       "      <th>last_day_exposition</th>\n",
       "      <th>last_price</th>\n",
       "      <th>floor</th>\n",
       "      <th>open_plan</th>\n",
       "      <th>rooms</th>\n",
       "      <th>studio</th>\n",
       "      <th>area</th>\n",
       "      <th>kitchen_area</th>\n",
       "      <th>living_area</th>\n",
       "      <th>agent_fee</th>\n",
       "      <th>renovation</th>\n",
       "      <th>offer_type</th>\n",
       "      <th>category_type</th>\n",
       "      <th>unified_address</th>\n",
       "      <th>building_id</th>\n",
       "      <th>price_per_sq_m</th>\n",
       "      <th>house_price_sqm_median</th>\n",
       "    </tr>\n",
       "  </thead>\n",
       "  <tbody>\n",
       "    <tr>\n",
       "      <th>185561</th>\n",
       "      <td>5365283220161389569</td>\n",
       "      <td>2018-04-24T00:00:00+03:00</td>\n",
       "      <td>2018-04-27T00:00:00+03:00</td>\n",
       "      <td>1100000.0</td>\n",
       "      <td>1</td>\n",
       "      <td>False</td>\n",
       "      <td>0</td>\n",
       "      <td>True</td>\n",
       "      <td>33.0</td>\n",
       "      <td>NaN</td>\n",
       "      <td>NaN</td>\n",
       "      <td>NaN</td>\n",
       "      <td>3.0</td>\n",
       "      <td>1</td>\n",
       "      <td>2</td>\n",
       "      <td>Россия, Санкт-Петербург, Пушкинский район, посёлок Шушары, Первомайская улица, 5к3</td>\n",
       "      <td>6931516357826986190</td>\n",
       "      <td>33333.333333</td>\n",
       "      <td>62500.0</td>\n",
       "    </tr>\n",
       "  </tbody>\n",
       "</table>\n",
       "</div>"
      ],
      "text/plain": [
       "                   offer_id       first_day_exposition        last_day_exposition  last_price  floor  open_plan  rooms  studio  area  kitchen_area  living_area  agent_fee  renovation  offer_type  category_type                                                                     unified_address          building_id  price_per_sq_m  house_price_sqm_median\n",
       "185561  5365283220161389569  2018-04-24T00:00:00+03:00  2018-04-27T00:00:00+03:00   1100000.0      1      False      0    True  33.0           NaN          NaN        NaN         3.0           1              2  Россия, Санкт-Петербург, Пушкинский район, посёлок Шушары, Первомайская улица, 5к3  6931516357826986190    33333.333333                 62500.0"
      ]
     },
     "execution_count": 23,
     "metadata": {},
     "output_type": "execute_result"
    }
   ],
   "source": [
    "cheapest_apartment = sell_df_cleaned[sell_df_cleaned.last_price == sell_df_cleaned.last_price.min()]\n",
    "cheapest_apartment"
   ]
  },
  {
   "cell_type": "markdown",
   "metadata": {},
   "source": [
    "From offer address and the map, it appears that the apartment in poselok Shushary, outside KAD (Saint-Petersburg Ring road), rather far from city center, in a lower-class district. From the cell above it's also clear it's a rather small studio, with renovation level rather low. So it seems its rather low price is reasonable, explainable, and does not raise concerns, thus this might actually truly be our genuine cheapest offer from the dataset after cleaning from outliers."
   ]
  },
  {
   "cell_type": "markdown",
   "metadata": {},
   "source": [
    "#### Most expensive apartment:"
   ]
  },
  {
   "cell_type": "code",
   "execution_count": 24,
   "metadata": {
    "scrolled": false
   },
   "outputs": [
    {
     "data": {
      "text/html": [
       "<div>\n",
       "<style scoped>\n",
       "    .dataframe tbody tr th:only-of-type {\n",
       "        vertical-align: middle;\n",
       "    }\n",
       "\n",
       "    .dataframe tbody tr th {\n",
       "        vertical-align: top;\n",
       "    }\n",
       "\n",
       "    .dataframe thead th {\n",
       "        text-align: right;\n",
       "    }\n",
       "</style>\n",
       "<table border=\"1\" class=\"dataframe\">\n",
       "  <thead>\n",
       "    <tr style=\"text-align: right;\">\n",
       "      <th></th>\n",
       "      <th>offer_id</th>\n",
       "      <th>first_day_exposition</th>\n",
       "      <th>last_day_exposition</th>\n",
       "      <th>last_price</th>\n",
       "      <th>floor</th>\n",
       "      <th>open_plan</th>\n",
       "      <th>rooms</th>\n",
       "      <th>studio</th>\n",
       "      <th>area</th>\n",
       "      <th>kitchen_area</th>\n",
       "      <th>living_area</th>\n",
       "      <th>agent_fee</th>\n",
       "      <th>renovation</th>\n",
       "      <th>offer_type</th>\n",
       "      <th>category_type</th>\n",
       "      <th>unified_address</th>\n",
       "      <th>building_id</th>\n",
       "      <th>price_per_sq_m</th>\n",
       "      <th>house_price_sqm_median</th>\n",
       "    </tr>\n",
       "  </thead>\n",
       "  <tbody>\n",
       "    <tr>\n",
       "      <th>237351</th>\n",
       "      <td>8310251211233707984</td>\n",
       "      <td>2018-03-26T00:00:00+03:00</td>\n",
       "      <td>2018-08-20T00:00:00+03:00</td>\n",
       "      <td>605740032.0</td>\n",
       "      <td>2</td>\n",
       "      <td>False</td>\n",
       "      <td>5</td>\n",
       "      <td>False</td>\n",
       "      <td>443.0</td>\n",
       "      <td>10.0</td>\n",
       "      <td>248.0</td>\n",
       "      <td>0.0</td>\n",
       "      <td>NaN</td>\n",
       "      <td>1</td>\n",
       "      <td>2</td>\n",
       "      <td>Россия, Санкт-Петербург, Южная дорога, 5</td>\n",
       "      <td>3312559599398519904</td>\n",
       "      <td>1.367359e+06</td>\n",
       "      <td>759301.442673</td>\n",
       "    </tr>\n",
       "  </tbody>\n",
       "</table>\n",
       "</div>"
      ],
      "text/plain": [
       "                   offer_id       first_day_exposition        last_day_exposition   last_price  floor  open_plan  rooms  studio   area  kitchen_area  living_area  agent_fee  renovation  offer_type  category_type                           unified_address          building_id  price_per_sq_m  house_price_sqm_median\n",
       "237351  8310251211233707984  2018-03-26T00:00:00+03:00  2018-08-20T00:00:00+03:00  605740032.0      2      False      5   False  443.0          10.0        248.0        0.0         NaN           1              2  Россия, Санкт-Петербург, Южная дорога, 5  3312559599398519904    1.367359e+06           759301.442673"
      ]
     },
     "execution_count": 24,
     "metadata": {},
     "output_type": "execute_result"
    }
   ],
   "source": [
    "most_expensive_apartment = sell_df_cleaned[sell_df_cleaned.last_price == sell_df_cleaned.last_price.max()]\n",
    "most_expensive_apartment"
   ]
  },
  {
   "cell_type": "markdown",
   "metadata": {},
   "source": [
    "From offer address and the map, it appears that the apartment is located on Krestovsky ostrov, which is a rather elite district of Saint-Petersburg, so the high price is reasonable, explainable, and does not raise concerns, thus this might actually truly be our genuine most expensive offer from the dataset after cleaning from outliers."
   ]
  },
  {
   "cell_type": "markdown",
   "metadata": {},
   "source": [
    "## 5. Calculate how many years does it take to cover all money spent on buying apartment by renting it. Find houses in which it's the most effective to invest in buying if you plan to rent and houses in which it will be the most ineffective."
   ]
  },
  {
   "cell_type": "code",
   "execution_count": 25,
   "metadata": {},
   "outputs": [],
   "source": [
    "# First we'll recreate the cleaned dataframe with house median prices per sqm for each house\n",
    "house_rent_df_cleaned = rent_df_cleaned.groupby('unified_address').price_per_sq_m.median().reset_index()"
   ]
  },
  {
   "cell_type": "code",
   "execution_count": 26,
   "metadata": {},
   "outputs": [],
   "source": [
    "# Conducting a merge for median house prices per sqm between sell and rent offers\n",
    "house_df = house_rent_df_cleaned.merge(house_sell_df_cleaned)\n",
    "\n",
    "# Renaming price_per_sq_m columns to rent and price\n",
    "house_df.rename({'price_per_sq_m': 'rent_price_per_sq_m', 'house_sell_price_sqm_median_cleaned': 'sell_price_per_sq_m'}, axis=1, inplace=True)"
   ]
  },
  {
   "cell_type": "code",
   "execution_count": 27,
   "metadata": {},
   "outputs": [
    {
     "data": {
      "text/html": [
       "<div>\n",
       "<style scoped>\n",
       "    .dataframe tbody tr th:only-of-type {\n",
       "        vertical-align: middle;\n",
       "    }\n",
       "\n",
       "    .dataframe tbody tr th {\n",
       "        vertical-align: top;\n",
       "    }\n",
       "\n",
       "    .dataframe thead th {\n",
       "        text-align: right;\n",
       "    }\n",
       "</style>\n",
       "<table border=\"1\" class=\"dataframe\">\n",
       "  <thead>\n",
       "    <tr style=\"text-align: right;\">\n",
       "      <th></th>\n",
       "      <th>unified_address</th>\n",
       "      <th>rent_price_per_sq_m</th>\n",
       "      <th>sell_price_per_sq_m</th>\n",
       "    </tr>\n",
       "  </thead>\n",
       "  <tbody>\n",
       "    <tr>\n",
       "      <th>0</th>\n",
       "      <td>Россия, Санкт-Петербург, 1-й Муринский проспект, 11</td>\n",
       "      <td>571.383648</td>\n",
       "      <td>102630.689500</td>\n",
       "    </tr>\n",
       "    <tr>\n",
       "      <th>1</th>\n",
       "      <td>Россия, Санкт-Петербург, 1-й Муринский проспект, 13</td>\n",
       "      <td>500.000000</td>\n",
       "      <td>99834.656085</td>\n",
       "    </tr>\n",
       "    <tr>\n",
       "      <th>2</th>\n",
       "      <td>Россия, Санкт-Петербург, 1-й Муринский проспект, 15</td>\n",
       "      <td>569.743935</td>\n",
       "      <td>91615.179391</td>\n",
       "    </tr>\n",
       "    <tr>\n",
       "      <th>3</th>\n",
       "      <td>Россия, Санкт-Петербург, 1-й Муринский проспект, 17</td>\n",
       "      <td>600.000000</td>\n",
       "      <td>79189.163588</td>\n",
       "    </tr>\n",
       "    <tr>\n",
       "      <th>4</th>\n",
       "      <td>Россия, Санкт-Петербург, 1-й Муринский проспект, 19</td>\n",
       "      <td>482.142857</td>\n",
       "      <td>97281.369639</td>\n",
       "    </tr>\n",
       "    <tr>\n",
       "      <th>...</th>\n",
       "      <td>...</td>\n",
       "      <td>...</td>\n",
       "      <td>...</td>\n",
       "    </tr>\n",
       "    <tr>\n",
       "      <th>16460</th>\n",
       "      <td>Россия, Санкт-Петербург, шоссе Революции, 45</td>\n",
       "      <td>524.544180</td>\n",
       "      <td>82229.689662</td>\n",
       "    </tr>\n",
       "    <tr>\n",
       "      <th>16461</th>\n",
       "      <td>Россия, Санкт-Петербург, шоссе Революции, 48</td>\n",
       "      <td>451.785714</td>\n",
       "      <td>84523.809524</td>\n",
       "    </tr>\n",
       "    <tr>\n",
       "      <th>16462</th>\n",
       "      <td>Россия, Санкт-Петербург, шоссе Революции, 50</td>\n",
       "      <td>511.111111</td>\n",
       "      <td>83928.571429</td>\n",
       "    </tr>\n",
       "    <tr>\n",
       "      <th>16463</th>\n",
       "      <td>Россия, Санкт-Петербург, шоссе Революции, 84к1</td>\n",
       "      <td>628.571429</td>\n",
       "      <td>84745.762712</td>\n",
       "    </tr>\n",
       "    <tr>\n",
       "      <th>16464</th>\n",
       "      <td>Россия, Санкт-Петербург, шоссе Революции, 9</td>\n",
       "      <td>362.500000</td>\n",
       "      <td>101398.468553</td>\n",
       "    </tr>\n",
       "  </tbody>\n",
       "</table>\n",
       "<p>16465 rows × 3 columns</p>\n",
       "</div>"
      ],
      "text/plain": [
       "                                           unified_address  rent_price_per_sq_m  sell_price_per_sq_m\n",
       "0      Россия, Санкт-Петербург, 1-й Муринский проспект, 11           571.383648        102630.689500\n",
       "1      Россия, Санкт-Петербург, 1-й Муринский проспект, 13           500.000000         99834.656085\n",
       "2      Россия, Санкт-Петербург, 1-й Муринский проспект, 15           569.743935         91615.179391\n",
       "3      Россия, Санкт-Петербург, 1-й Муринский проспект, 17           600.000000         79189.163588\n",
       "4      Россия, Санкт-Петербург, 1-й Муринский проспект, 19           482.142857         97281.369639\n",
       "...                                                    ...                  ...                  ...\n",
       "16460         Россия, Санкт-Петербург, шоссе Революции, 45           524.544180         82229.689662\n",
       "16461         Россия, Санкт-Петербург, шоссе Революции, 48           451.785714         84523.809524\n",
       "16462         Россия, Санкт-Петербург, шоссе Революции, 50           511.111111         83928.571429\n",
       "16463       Россия, Санкт-Петербург, шоссе Революции, 84к1           628.571429         84745.762712\n",
       "16464          Россия, Санкт-Петербург, шоссе Революции, 9           362.500000        101398.468553\n",
       "\n",
       "[16465 rows x 3 columns]"
      ]
     },
     "execution_count": 27,
     "metadata": {},
     "output_type": "execute_result"
    }
   ],
   "source": [
    "house_df"
   ]
  },
  {
   "cell_type": "code",
   "execution_count": 28,
   "metadata": {
    "scrolled": true
   },
   "outputs": [
    {
     "data": {
      "text/html": [
       "<div>\n",
       "<style scoped>\n",
       "    .dataframe tbody tr th:only-of-type {\n",
       "        vertical-align: middle;\n",
       "    }\n",
       "\n",
       "    .dataframe tbody tr th {\n",
       "        vertical-align: top;\n",
       "    }\n",
       "\n",
       "    .dataframe thead th {\n",
       "        text-align: right;\n",
       "    }\n",
       "</style>\n",
       "<table border=\"1\" class=\"dataframe\">\n",
       "  <thead>\n",
       "    <tr style=\"text-align: right;\">\n",
       "      <th></th>\n",
       "      <th>unified_address</th>\n",
       "      <th>rent_price_per_sq_m</th>\n",
       "      <th>sell_price_per_sq_m</th>\n",
       "      <th>years_to_pay_back</th>\n",
       "    </tr>\n",
       "  </thead>\n",
       "  <tbody>\n",
       "    <tr>\n",
       "      <th>0</th>\n",
       "      <td>Россия, Санкт-Петербург, 1-й Муринский проспект, 11</td>\n",
       "      <td>571.383648</td>\n",
       "      <td>102630.689500</td>\n",
       "      <td>14.968152</td>\n",
       "    </tr>\n",
       "    <tr>\n",
       "      <th>1</th>\n",
       "      <td>Россия, Санкт-Петербург, 1-й Муринский проспект, 13</td>\n",
       "      <td>500.000000</td>\n",
       "      <td>99834.656085</td>\n",
       "      <td>16.639109</td>\n",
       "    </tr>\n",
       "    <tr>\n",
       "      <th>2</th>\n",
       "      <td>Россия, Санкт-Петербург, 1-й Муринский проспект, 15</td>\n",
       "      <td>569.743935</td>\n",
       "      <td>91615.179391</td>\n",
       "      <td>13.400052</td>\n",
       "    </tr>\n",
       "    <tr>\n",
       "      <th>3</th>\n",
       "      <td>Россия, Санкт-Петербург, 1-й Муринский проспект, 17</td>\n",
       "      <td>600.000000</td>\n",
       "      <td>79189.163588</td>\n",
       "      <td>10.998495</td>\n",
       "    </tr>\n",
       "    <tr>\n",
       "      <th>4</th>\n",
       "      <td>Россия, Санкт-Петербург, 1-й Муринский проспект, 19</td>\n",
       "      <td>482.142857</td>\n",
       "      <td>97281.369639</td>\n",
       "      <td>16.814064</td>\n",
       "    </tr>\n",
       "    <tr>\n",
       "      <th>...</th>\n",
       "      <td>...</td>\n",
       "      <td>...</td>\n",
       "      <td>...</td>\n",
       "      <td>...</td>\n",
       "    </tr>\n",
       "    <tr>\n",
       "      <th>16460</th>\n",
       "      <td>Россия, Санкт-Петербург, шоссе Революции, 45</td>\n",
       "      <td>524.544180</td>\n",
       "      <td>82229.689662</td>\n",
       "      <td>13.063674</td>\n",
       "    </tr>\n",
       "    <tr>\n",
       "      <th>16461</th>\n",
       "      <td>Россия, Санкт-Петербург, шоссе Революции, 48</td>\n",
       "      <td>451.785714</td>\n",
       "      <td>84523.809524</td>\n",
       "      <td>15.590690</td>\n",
       "    </tr>\n",
       "    <tr>\n",
       "      <th>16462</th>\n",
       "      <td>Россия, Санкт-Петербург, шоссе Революции, 50</td>\n",
       "      <td>511.111111</td>\n",
       "      <td>83928.571429</td>\n",
       "      <td>13.684006</td>\n",
       "    </tr>\n",
       "    <tr>\n",
       "      <th>16463</th>\n",
       "      <td>Россия, Санкт-Петербург, шоссе Революции, 84к1</td>\n",
       "      <td>628.571429</td>\n",
       "      <td>84745.762712</td>\n",
       "      <td>11.235234</td>\n",
       "    </tr>\n",
       "    <tr>\n",
       "      <th>16464</th>\n",
       "      <td>Россия, Санкт-Петербург, шоссе Революции, 9</td>\n",
       "      <td>362.500000</td>\n",
       "      <td>101398.468553</td>\n",
       "      <td>23.309993</td>\n",
       "    </tr>\n",
       "  </tbody>\n",
       "</table>\n",
       "<p>16465 rows × 4 columns</p>\n",
       "</div>"
      ],
      "text/plain": [
       "                                           unified_address  rent_price_per_sq_m  sell_price_per_sq_m  years_to_pay_back\n",
       "0      Россия, Санкт-Петербург, 1-й Муринский проспект, 11           571.383648        102630.689500          14.968152\n",
       "1      Россия, Санкт-Петербург, 1-й Муринский проспект, 13           500.000000         99834.656085          16.639109\n",
       "2      Россия, Санкт-Петербург, 1-й Муринский проспект, 15           569.743935         91615.179391          13.400052\n",
       "3      Россия, Санкт-Петербург, 1-й Муринский проспект, 17           600.000000         79189.163588          10.998495\n",
       "4      Россия, Санкт-Петербург, 1-й Муринский проспект, 19           482.142857         97281.369639          16.814064\n",
       "...                                                    ...                  ...                  ...                ...\n",
       "16460         Россия, Санкт-Петербург, шоссе Революции, 45           524.544180         82229.689662          13.063674\n",
       "16461         Россия, Санкт-Петербург, шоссе Революции, 48           451.785714         84523.809524          15.590690\n",
       "16462         Россия, Санкт-Петербург, шоссе Революции, 50           511.111111         83928.571429          13.684006\n",
       "16463       Россия, Санкт-Петербург, шоссе Революции, 84к1           628.571429         84745.762712          11.235234\n",
       "16464          Россия, Санкт-Петербург, шоссе Революции, 9           362.500000        101398.468553          23.309993\n",
       "\n",
       "[16465 rows x 4 columns]"
      ]
     },
     "execution_count": 28,
     "metadata": {},
     "output_type": "execute_result"
    }
   ],
   "source": [
    "# Counting years it takes to cover all money spent on buying apartment by renting it in a separate column\n",
    "\n",
    "house_df['years_to_pay_back'] = house_df.sell_price_per_sq_m/house_df.rent_price_per_sq_m/12\n",
    "house_df"
   ]
  },
  {
   "cell_type": "markdown",
   "metadata": {},
   "source": [
    "### Most effective house to invest"
   ]
  },
  {
   "cell_type": "code",
   "execution_count": 29,
   "metadata": {
    "scrolled": true
   },
   "outputs": [
    {
     "data": {
      "text/html": [
       "<div>\n",
       "<style scoped>\n",
       "    .dataframe tbody tr th:only-of-type {\n",
       "        vertical-align: middle;\n",
       "    }\n",
       "\n",
       "    .dataframe tbody tr th {\n",
       "        vertical-align: top;\n",
       "    }\n",
       "\n",
       "    .dataframe thead th {\n",
       "        text-align: right;\n",
       "    }\n",
       "</style>\n",
       "<table border=\"1\" class=\"dataframe\">\n",
       "  <thead>\n",
       "    <tr style=\"text-align: right;\">\n",
       "      <th></th>\n",
       "      <th>unified_address</th>\n",
       "      <th>rent_price_per_sq_m</th>\n",
       "      <th>sell_price_per_sq_m</th>\n",
       "      <th>years_to_pay_back</th>\n",
       "    </tr>\n",
       "  </thead>\n",
       "  <tbody>\n",
       "    <tr>\n",
       "      <th>14539</th>\n",
       "      <td>Россия, Санкт-Петербург, улица Марата, 41</td>\n",
       "      <td>1750.0</td>\n",
       "      <td>91517.857143</td>\n",
       "      <td>4.357993</td>\n",
       "    </tr>\n",
       "  </tbody>\n",
       "</table>\n",
       "</div>"
      ],
      "text/plain": [
       "                                 unified_address  rent_price_per_sq_m  sell_price_per_sq_m  years_to_pay_back\n",
       "14539  Россия, Санкт-Петербург, улица Марата, 41               1750.0         91517.857143           4.357993"
      ]
     },
     "execution_count": 29,
     "metadata": {},
     "output_type": "execute_result"
    }
   ],
   "source": [
    "# Most effective to invest it will be in houses where it takes shortest to pay back price of apartment with rent\n",
    "\n",
    "most_effective_house = house_df[house_df.years_to_pay_back==house_df.years_to_pay_back.min()]\n",
    "most_effective_house"
   ]
  },
  {
   "cell_type": "code",
   "execution_count": 30,
   "metadata": {
    "scrolled": false
   },
   "outputs": [
    {
     "name": "stdout",
     "output_type": "stream",
     "text": [
      "https://realty.yandex.ru/otsenka-kvartiry-po-adresu-onlayn/%D0%A0%D0%BE%D1%81%D1%81%D0%B8%D1%8F%2C%20%D0%A1%D0%B0%D0%BD%D0%BA%D1%82-%D0%9F%D0%B5%D1%82%D0%B5%D1%80%D0%B1%D1%83%D1%80%D0%B3%2C%20%D1%83%D0%BB%D0%B8%D1%86%D0%B0%20%D0%9C%D0%B0%D1%80%D0%B0%D1%82%D0%B0%2C%2041/snyat/kvartira/\n"
     ]
    }
   ],
   "source": [
    "print(\"https://realty.yandex.ru/otsenka-kvartiry-po-adresu-onlayn/{}/snyat/kvartira/\".format(urllib.parse.quote(most_effective_house.unified_address.iloc[0])))"
   ]
  },
  {
   "cell_type": "markdown",
   "metadata": {},
   "source": [
    "This is the most effective house to invest from our dataset, since it takes the shortest time to pay back the initial purchase price for the apartment from our dataset with rent fees - <b>less than 4 and a half years.</b>"
   ]
  },
  {
   "cell_type": "markdown",
   "metadata": {},
   "source": [
    "### Most INeffective house to invest"
   ]
  },
  {
   "cell_type": "code",
   "execution_count": 31,
   "metadata": {
    "scrolled": true
   },
   "outputs": [
    {
     "data": {
      "text/html": [
       "<div>\n",
       "<style scoped>\n",
       "    .dataframe tbody tr th:only-of-type {\n",
       "        vertical-align: middle;\n",
       "    }\n",
       "\n",
       "    .dataframe tbody tr th {\n",
       "        vertical-align: top;\n",
       "    }\n",
       "\n",
       "    .dataframe thead th {\n",
       "        text-align: right;\n",
       "    }\n",
       "</style>\n",
       "<table border=\"1\" class=\"dataframe\">\n",
       "  <thead>\n",
       "    <tr style=\"text-align: right;\">\n",
       "      <th></th>\n",
       "      <th>unified_address</th>\n",
       "      <th>rent_price_per_sq_m</th>\n",
       "      <th>sell_price_per_sq_m</th>\n",
       "      <th>years_to_pay_back</th>\n",
       "    </tr>\n",
       "  </thead>\n",
       "  <tbody>\n",
       "    <tr>\n",
       "      <th>1489</th>\n",
       "      <td>Россия, Санкт-Петербург, Бронницкая улица, 27</td>\n",
       "      <td>628.685259</td>\n",
       "      <td>764861.111111</td>\n",
       "      <td>101.383681</td>\n",
       "    </tr>\n",
       "  </tbody>\n",
       "</table>\n",
       "</div>"
      ],
      "text/plain": [
       "                                    unified_address  rent_price_per_sq_m  sell_price_per_sq_m  years_to_pay_back\n",
       "1489  Россия, Санкт-Петербург, Бронницкая улица, 27           628.685259        764861.111111         101.383681"
      ]
     },
     "execution_count": 31,
     "metadata": {},
     "output_type": "execute_result"
    }
   ],
   "source": [
    "# Most INeffective to invest it will be in houses where it takes LONGEST to pay back price of apartment with rent\n",
    "\n",
    "most_ineffective_house = house_df[house_df.years_to_pay_back==house_df.years_to_pay_back.max()]\n",
    "most_ineffective_house "
   ]
  },
  {
   "cell_type": "code",
   "execution_count": 32,
   "metadata": {},
   "outputs": [
    {
     "name": "stdout",
     "output_type": "stream",
     "text": [
      "https://realty.yandex.ru/otsenka-kvartiry-po-adresu-onlayn/%D0%A0%D0%BE%D1%81%D1%81%D0%B8%D1%8F%2C%20%D0%A1%D0%B0%D0%BD%D0%BA%D1%82-%D0%9F%D0%B5%D1%82%D0%B5%D1%80%D0%B1%D1%83%D1%80%D0%B3%2C%20%D0%91%D1%80%D0%BE%D0%BD%D0%BD%D0%B8%D1%86%D0%BA%D0%B0%D1%8F%20%D1%83%D0%BB%D0%B8%D1%86%D0%B0%2C%2027/snyat/kvartira/\n"
     ]
    }
   ],
   "source": [
    "print(\"https://realty.yandex.ru/otsenka-kvartiry-po-adresu-onlayn/{}/snyat/kvartira/\".format(urllib.parse.quote(most_ineffective_house.unified_address.iloc[0])))"
   ]
  },
  {
   "cell_type": "markdown",
   "metadata": {},
   "source": [
    "This is the most INeffective house to invest from our dataset, since it takes the longestest time to pay back the initial purchase price for the apartment from our dataset with rent fees - <b>more than a century.</b>"
   ]
  }
 ],
 "metadata": {
  "kernelspec": {
   "display_name": "Python 3",
   "language": "python",
   "name": "python3"
  },
  "language_info": {
   "codemirror_mode": {
    "name": "ipython",
    "version": 3
   },
   "file_extension": ".py",
   "mimetype": "text/x-python",
   "name": "python",
   "nbconvert_exporter": "python",
   "pygments_lexer": "ipython3",
   "version": "3.8.6"
  }
 },
 "nbformat": 4,
 "nbformat_minor": 2
}
